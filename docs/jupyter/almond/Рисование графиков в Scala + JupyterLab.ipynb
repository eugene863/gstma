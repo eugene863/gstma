{
 "cells": [
  {
   "cell_type": "markdown",
   "id": "32303423-76ed-40c1-b3a8-e05c5a2cfd51",
   "metadata": {},
   "source": [
    "## plotly-scala"
   ]
  },
  {
   "cell_type": "markdown",
   "id": "eb52ba2e-7b47-47cd-ae3e-8b997cb3c78d",
   "metadata": {},
   "source": [
    "- LaTeX-формулы не отрисовываются!\n",
    "- Нельзя сделать подписи дочерних графиков!\n",
    "- Нельзя сделать раздельные легенды!"
   ]
  },
  {
   "cell_type": "code",
   "execution_count": null,
   "id": "e44f971d-299b-49e8-8575-4a320f6bc8b1",
   "metadata": {},
   "outputs": [],
   "source": [
    "import $ivy.`org.plotly-scala::plotly-almond:0.8.5`\n",
    "import plotly._, plotly.element._, plotly.layout._, plotly.Almond._"
   ]
  },
  {
   "cell_type": "code",
   "execution_count": null,
   "id": "a79e8900-516b-4094-8610-422487d76e02",
   "metadata": {},
   "outputs": [],
   "source": [
    "import $ivy.`be.botkop::numsca:0.1.5`\n",
    "import botkop.{numsca => ns}\n",
    "import math.{Pi, sin, cos, sqrt, pow, log, exp, random}"
   ]
  },
  {
   "cell_type": "code",
   "execution_count": null,
   "id": "aa7877a8-0f9c-4457-b64b-f107563460e1",
   "metadata": {},
   "outputs": [],
   "source": [
    "val f_0s = ns.linspace(0.1, 10, 1000) * 1e9\n",
    "val l_ss = ns.array(200.0, 300.0, 400.0, 500.0, 600.0, 700.0, 800.0)\n",
    "val hm = 300 * 1e3\n",
    "val z_e = 500 * 1e3\n",
    "val z1 = hm - (z_e / 2)\n",
    "val C = 299792458.0"
   ]
  },
  {
   "cell_type": "code",
   "execution_count": null,
   "id": "9681f1e4-f6a7-4414-a4d7-f0ff7f079d27",
   "metadata": {},
   "outputs": [],
   "source": [
    "// old\n",
    "def d1_2_old(f_0s: botkop.numsca.Tensor, z: Double, z_e: Double, l_s: Double): botkop.numsca.Tensor = {\n",
    "  (3 * (z * z) - 3 * z * z_e + (z_e * z_e)) /\n",
    "    (6 * ns.power(2 * Pi * f_0s / C, 2)) * (pow(l_s, (-4)) / 8)\n",
    "}\n",
    "\n",
    "\n",
    "// modified\n",
    "def d1_2_modified(f_0: botkop.numsca.Tensor, z: Double, z_e: Double, l_s: Double): botkop.numsca.Tensor = {\n",
    "  (3 * (z * z) - 3 * z * z_e + (z_e * z_e)) /\n",
    "    (6 * ns.power(2 * Pi * f_0 / C, 2)) * 32 * pow(l_s, -4)\n",
    "}\n",
    "\n",
    "{{\n",
    "    val lay = Layout()\n",
    "        .withGrid(\n",
    "            Grid(Some(1), Some(2), Some(Pattern.Independent), None, \n",
    "                None))\n",
    "        .withXaxis1(Axis(\"\"\"f_0, Гц\"\"\"))\n",
    "        .withXaxis2(Axis(\"\"\"f_0, Гц\"\"\"))\n",
    "        .withYaxis1(Axis(\"\"\"l_s, м\"\"\").withType(AxisType.Log))\n",
    "        .withYaxis2(Axis(\"\"\"l_s, м\"\"\").withType(AxisType.Log))\n",
    "\n",
    "    {{\n",
    "        var data = l_ss.data.map((l_s) => {\n",
    "            Scatter(\n",
    "                f_0s.data.toSeq,\n",
    "                d1_2_old(f_0s, z1, z_e, l_s).data.toSeq,\n",
    "                name = \"\"\"%.3s\"\"\".format(l_s),\n",
    "                xaxis = AxisReference.X1,\n",
    "                yaxis = AxisReference.Y1\n",
    "            )\n",
    "        })\n",
    "\n",
    "        data = data ++ l_ss.data.map((l_s) => {\n",
    "            Scatter(\n",
    "                f_0s.data.toSeq,\n",
    "                d1_2_modified(f_0s, z1, z_e, l_s).data.toSeq,\n",
    "                name = \"\"\"%.3s\"\"\".format(l_s),\n",
    "                xaxis = AxisReference.X2,\n",
    "                yaxis = AxisReference.Y2\n",
    "            )\n",
    "        })\n",
    "        \n",
    "        plot(data, lay.withTitle(\"d_{1, мод}^2(f_0)\"))\n",
    "    }}\n",
    "}}\n",
    "\n",
    "// ax[0].set_title(r\"$d_1^2(f_0)$\")\n",
    "// ax[1].set_title(r\"$d_{1, мод}^2(f_0)$\")"
   ]
  },
  {
   "cell_type": "markdown",
   "id": "8fe7c8a7-b2a6-4d55-979e-68326de5d0fd",
   "metadata": {},
   "source": [
    "## matplotlib4j"
   ]
  },
  {
   "cell_type": "code",
   "execution_count": null,
   "id": "d712bc57-ad41-4e08-8297-f49a85a97034",
   "metadata": {},
   "outputs": [],
   "source": [
    "import $ivy.`com.github.sh0nk::matplotlib4j:0.5.0`"
   ]
  },
  {
   "cell_type": "code",
   "execution_count": null,
   "id": "360d35e6-b18f-4ec2-b6ab-59e83e7605d7",
   "metadata": {},
   "outputs": [],
   "source": [
    "import com.github.sh0nk.matplotlib4j._\n",
    "import math.{Pi, sin, cos, sqrt, pow, log, exp, random}\n",
    "import scala.collection.JavaConverters._\n",
    "\n",
    "val x = NumpyUtils.linspace(-3, 3, 100).asScala.toList\n",
    "val y = x.map(xi => sin(xi) + random()).map(Double.box)\n",
    "\n",
    "val plt = Plot.create()\n",
    "plt.plot().add(x.asJava, y.asJava, \"o\")\n",
    "plt.title(\"scatter\")\n",
    "plt.show()"
   ]
  },
  {
   "cell_type": "markdown",
   "id": "b689c3bf-359d-40f8-b0ca-942067bb5ed0",
   "metadata": {},
   "source": [
    "- Отображение в JupyterLab не поддерживается!"
   ]
  }
 ],
 "metadata": {
  "language_info": {
   "name": "python",
   "pygments_lexer": "ipython3"
  }
 },
 "nbformat": 4,
 "nbformat_minor": 5
}
