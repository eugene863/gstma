{
 "cells": [
  {
   "cell_type": "markdown",
   "id": "80db7311-ea96-449a-bda2-b303e4d7494d",
   "metadata": {},
   "source": [
    "Digital Filters on Scala\n",
    "========================\n",
    "\n",
    "Интерактивный вариант расчетов, используемых в кластере"
   ]
  },
  {
   "cell_type": "markdown",
   "id": "4ddee32d-099a-4a52-babc-ac2cfe6aff84",
   "metadata": {},
   "source": [
    "## Импорты\n",
    "\n",
    "Plotly для отрисовки графиков как алтернативна Matplotlib в Python-блокнотах.\n",
    "\n",
    "Предварительно необходимо установить расширение `jupyterlab-plotly`. Подробности смотрите\n",
    "[на странице проекта](https://github.com/alexarchambault/plotly-scala#jupyterlab)."
   ]
  },
  {
   "cell_type": "code",
   "execution_count": null,
   "id": "53cc4854-568a-4d19-88cf-17c8a159d779",
   "metadata": {},
   "outputs": [],
   "source": [
    "import $ivy.`org.plotly-scala::plotly-almond:0.8.4`\n",
    "import plotly._, plotly.element._, plotly.layout._, plotly.Almond._\n",
    "\n",
    "// if you want to have the plots available without an internet connection:\n",
    "// init(offline=true)\n",
    "\n",
    "// restrict the output height to avoid scrolling in output cells\n",
    "repl.pprinter() = repl.pprinter().copy(defaultHeight = 3)"
   ]
  },
  {
   "cell_type": "markdown",
   "id": "9f81e493-6dca-4c1d-98dc-b224d73ac6b1",
   "metadata": {},
   "source": [
    "Numsca -- легковесная замена Numpy"
   ]
  },
  {
   "cell_type": "code",
   "execution_count": null,
   "id": "216608ed-fbf0-4d43-8ff5-94dc99493015",
   "metadata": {},
   "outputs": [],
   "source": [
    "import $ivy.`be.botkop::numsca:0.1.5`\n",
    "import botkop.{numsca => ns}\n",
    "\n",
    "import math.sin"
   ]
  },
  {
   "cell_type": "markdown",
   "id": "ebb83939-9a4e-478a-991a-85dd89a8d6cf",
   "metadata": {},
   "source": [
    "## Расчеты\n",
    "\n",
    "Сымитируем тестовыю ситуацию с мелко- и крупно-масштабными возмущениями:"
   ]
  },
  {
   "cell_type": "code",
   "execution_count": null,
   "id": "7e6af16d-7077-45fd-922c-f3d41e2799f8",
   "metadata": {},
   "outputs": [],
   "source": [
    "val xs = ns.linspace(0.0, 60.0, 100000).data.toSeq\n",
    "val res = xs.map(x => 2.0 + 0.3 * sin(x / 35) + 0.1 * sin(x * 500))"
   ]
  },
  {
   "cell_type": "code",
   "execution_count": null,
   "id": "c7ea0156-01da-4653-a94a-6672f568e0ce",
   "metadata": {},
   "outputs": [],
   "source": [
    "plot(Seq(Scatter(xs, res)))"
   ]
  },
  {
   "cell_type": "markdown",
   "id": "235187fa-36ba-44b8-bd99-4719d2a0a0e5",
   "metadata": {
    "tags": []
   },
   "source": [
    "### Фильтры Баттерворта (импорт из проекта)"
   ]
  },
  {
   "cell_type": "code",
   "execution_count": null,
   "id": "55351111-7e0c-4b23-b3f8-7df9fd7d8375",
   "metadata": {},
   "outputs": [],
   "source": [
    "object DigitalFilters extends Serializable {\n",
    "  def avgNt(nt: Seq[Double], avgNt: Seq[Double]): Double = {\n",
    "    val b = Seq(\n",
    "      0.00000004863987500780838,\n",
    "      0.00000029183925004685027,\n",
    "      0.00000072959812511712565,\n",
    "      0.00000097279750015616753,\n",
    "      0.00000072959812511712565,\n",
    "      0.00000029183925004685027,\n",
    "      0.00000004863987500780838\n",
    "    )\n",
    "\n",
    "    val a = Seq(\n",
    "      -5.5145351211661655,\n",
    "      12.689113056515138,\n",
    "      -15.593635210704097,\n",
    "      10.793296670485379,\n",
    "      -3.9893594042308829,\n",
    "      0.6151231220526282\n",
    "    )\n",
    "\n",
    "    butterworthFilter(b, a, nt, avgNt)\n",
    "  }\n",
    "\n",
    "  def delNt(nt: Seq[Double], delNt: Seq[Double]): Double = {\n",
    "    val b = Seq(\n",
    "      0.076745906902313671,\n",
    "      0,\n",
    "      -0.23023772070694101,\n",
    "      0,\n",
    "      0.23023772070694101,\n",
    "      0,\n",
    "      -0.076745906902313671\n",
    "    )\n",
    "\n",
    "    val a = Seq(\n",
    "      -3.4767608600037727,\n",
    "      5.0801848641096203,\n",
    "      -4.2310052826910152,\n",
    "      2.2392861745041328,\n",
    "      -0.69437337677433475,\n",
    "      0.084273573849621822\n",
    "    )\n",
    "\n",
    "    butterworthFilter(b, a, nt, delNt)\n",
    "  }\n",
    "\n",
    "  @SuppressWarnings(Array(\"org.wartremover.warts.Throw\"))\n",
    "  private def butterworthFilter(b: Seq[Double], a: Seq[Double], bInputSeq: Seq[Double], aInputSeq: Seq[Double]): Double = {\n",
    "    if (b.length !== bInputSeq.length) throw\n",
    "      new IllegalArgumentException(s\"The length of b must be equal to bInputSeq length\")\n",
    "\n",
    "    if (a.length !== aInputSeq.length) throw\n",
    "      new IllegalArgumentException(s\"The length of a must be equal to aInputSeq length\")\n",
    "\n",
    "    (b, bInputSeq).zipped.map((x, y) => x * y).sum - (a, aInputSeq).zipped.map((x, y) => x * y).sum\n",
    "  }\n",
    "\n",
    "  @SuppressWarnings(Array(\"org.wartremover.warts.Equals\"))\n",
    "  implicit final class AnyOps[A](self: A) {\n",
    "    def !==(other: A): Boolean = self != other\n",
    "  }\n",
    "}"
   ]
  },
  {
   "cell_type": "markdown",
   "id": "57e579ae-b491-4e73-a668-89f3aac01d16",
   "metadata": {
    "tags": []
   },
   "source": [
    "### Расчеты фильтров по проекту"
   ]
  },
  {
   "cell_type": "code",
   "execution_count": null,
   "id": "4dc1640b-e0ba-4e7f-8eb9-ad542eec3ad9",
   "metadata": {},
   "outputs": [],
   "source": [
    "import scala.collection.mutable\n",
    "\n",
    "val filterOrder = 6\n",
    "val zero: Double = 0\n",
    "\n",
    "val zeroSeq = mutable.Seq.fill[Double](filterOrder)(zero)\n",
    "val NTSeq = zeroSeq.padTo(filterOrder, zero) ++ res\n",
    "var avgNTSeq = zeroSeq.padTo(filterOrder + xs.length, zero)\n",
    "var delNTSeq = zeroSeq.padTo(filterOrder + xs.length, zero)"
   ]
  },
  {
   "cell_type": "code",
   "execution_count": null,
   "id": "4f688978-efe3-4953-a07e-a80108ab07bb",
   "metadata": {},
   "outputs": [],
   "source": [
    "for (i <- filterOrder until NTSeq.length) {\n",
    "  val nt7 =\n",
    "      for (j <- 0 until (filterOrder + 1))\n",
    "        yield NTSeq(i - j)\n",
    "\n",
    "  avgNTSeq(i) = DigitalFilters.avgNt(nt7, avgNTSeq.slice(i - 6, i - 1 + 1).reverse)\n",
    "  delNTSeq(i) = DigitalFilters.delNt(nt7, delNTSeq.slice(i - 6, i - 1 + 1).reverse)\n",
    "}"
   ]
  },
  {
   "cell_type": "code",
   "execution_count": null,
   "id": "a32881d3-e4e6-4f9d-9611-6d4e26ee3e06",
   "metadata": {},
   "outputs": [],
   "source": [
    "plot(\n",
    "    Seq(\n",
    "        Scatter(xs, avgNTSeq, \"avgNT\"),\n",
    "        Scatter(xs, delNTSeq, \"delNT\")))"
   ]
  },
  {
   "cell_type": "markdown",
   "id": "65a481cf-d626-4686-9ee8-5a1bd6e193fa",
   "metadata": {},
   "source": [
    "### Фильтры Баттерворта (фабрика фильтров)\n",
    "\n",
    "Переписанная под фабричный метод генерации фильтров реализация. Теперь фильтры -- это объекты с состояниями. Удобный интерфейс и самодостаточность. Реализация в виде функционального объекта позволяет получать результат без лишних движений."
   ]
  },
  {
   "cell_type": "code",
   "execution_count": null,
   "id": "8d706e63-5736-4fcd-976f-418336432a8c",
   "metadata": {},
   "outputs": [],
   "source": [
    "import scala.collection.mutable\n",
    "\n",
    "class DigitalFilter(val order: Int,\n",
    "                    val b: Seq[Double],\n",
    "                    val a: Seq[Double]) extends Serializable {\n",
    "\n",
    "  if (order < 1) throw\n",
    "    new IllegalArgumentException(s\"The filter order must be positive number\")\n",
    "\n",
    "  if (b.length != (order + 1) || a.length != order) throw\n",
    "    new IllegalArgumentException(s\"The a's and b's lengths must be satisfy to filter order\")\n",
    "\n",
    "  private val zero: Double = 0\n",
    "  private val zeroSeq = mutable.Seq.fill[Double](order)(zero)\n",
    "  private var bInputSeq = zeroSeq\n",
    "  private var aInputSeq = zeroSeq\n",
    "\n",
    "  @SuppressWarnings(Array(\"org.wartremover.warts.Throw\"))\n",
    "  private def filt(bInputSeq: Seq[Double], aInputSeq: Seq[Double]): Double = {\n",
    "    if (b.length !== bInputSeq.length) throw\n",
    "      new IllegalArgumentException(s\"The length of b must be equal to bInputSeq length\")\n",
    "\n",
    "    if (a.length !== aInputSeq.length) throw\n",
    "      new IllegalArgumentException(s\"The length of a must be equal to aInputSeq length\")\n",
    "\n",
    "    ((b, bInputSeq).zipped.map((x, y) => x * y).sum\n",
    "     - (a, aInputSeq).zipped.map((x, y) => x * y).sum)\n",
    "  }\n",
    "\n",
    "  def apply(input: Seq[Double]): Seq[Double] = {\n",
    "    val iSeq = bInputSeq.padTo(order, zero) ++ input\n",
    "    var oSeq = aInputSeq.padTo(order + input.length, zero)\n",
    "\n",
    "    for (i <- order until iSeq.length) {\n",
    "      oSeq(i) =\n",
    "        filt(\n",
    "          iSeq.slice(i - order, i - 1 + 2).reverse,\n",
    "          oSeq.slice(i - order, i - 1 + 1).reverse)\n",
    "    }\n",
    "\n",
    "    bInputSeq = iSeq.takeRight(order)\n",
    "    aInputSeq = oSeq.takeRight(order)\n",
    "    oSeq.slice(0, oSeq.length - order).toSeq\n",
    "  }\n",
    "\n",
    "  @SuppressWarnings(Array(\"org.wartremover.warts.Equals\"))\n",
    "  implicit final class AnyOps[A](self: A) {\n",
    "    def !==(other: A): Boolean = self != other\n",
    "  }\n",
    "}"
   ]
  },
  {
   "cell_type": "markdown",
   "id": "806c3c45-6963-4c0f-aed1-bd1da5970c9b",
   "metadata": {},
   "source": [
    "Так же фильтры не привязаны к порядку и своим коэффициентам и могут генерироваться из фабрики.\n",
    "Например, можно определить стандартные фабрики, используемые в проекте (и подобные образом можно их множить в дальнейшем):"
   ]
  },
  {
   "cell_type": "code",
   "execution_count": null,
   "id": "795493b2-c719-4229-b5f4-723cba8ea8f4",
   "metadata": {},
   "outputs": [],
   "source": [
    "object DigitalFilters extends Serializable {\n",
    "  def avgNt(): DigitalFilter = {\n",
    "    val b = Seq(\n",
    "      0.00000004863987500780838,\n",
    "      0.00000029183925004685027,\n",
    "      0.00000072959812511712565,\n",
    "      0.00000097279750015616753,\n",
    "      0.00000072959812511712565,\n",
    "      0.00000029183925004685027,\n",
    "      0.00000004863987500780838\n",
    "    )\n",
    "\n",
    "    val a = Seq(\n",
    "      -5.5145351211661655,\n",
    "      12.689113056515138,\n",
    "      -15.593635210704097,\n",
    "      10.793296670485379,\n",
    "      -3.9893594042308829,\n",
    "      0.6151231220526282\n",
    "    )\n",
    "\n",
    "    new DigitalFilter(6, b, a)\n",
    "  }\n",
    "\n",
    "  def delNt(): DigitalFilter = {\n",
    "    val b = Seq(\n",
    "      0.076745906902313671,\n",
    "      0,\n",
    "      -0.23023772070694101,\n",
    "      0,\n",
    "      0.23023772070694101,\n",
    "      0,\n",
    "      -0.076745906902313671\n",
    "    )\n",
    "\n",
    "    val a = Seq(\n",
    "      -3.4767608600037727,\n",
    "      5.0801848641096203,\n",
    "      -4.2310052826910152,\n",
    "      2.2392861745041328,\n",
    "      -0.69437337677433475,\n",
    "      0.084273573849621822\n",
    "    )\n",
    "\n",
    "    new DigitalFilter(6, b, a)\n",
    "  }\n",
    "}"
   ]
  },
  {
   "cell_type": "code",
   "execution_count": null,
   "id": "69c0bdaf-67d4-47fa-8939-64bd0997de7b",
   "metadata": {},
   "outputs": [],
   "source": [
    "val avgNTFilter = DigitalFilters.avgNt\n",
    "val delNTFilter = DigitalFilters.delNt"
   ]
  },
  {
   "cell_type": "markdown",
   "id": "29a25b5b-d5a0-4368-8ba7-86527a77722c",
   "metadata": {},
   "source": [
    "Теперь проверим, как работает бесшовное сшитие на основе внутреннего состояния фильтров:"
   ]
  },
  {
   "cell_type": "code",
   "execution_count": null,
   "id": "ea07620e-acc7-45ab-9ddc-48739a26abe7",
   "metadata": {},
   "outputs": [],
   "source": [
    "val avgNTSeq2 = avgNTFilter(res.slice(0, res.length/2)) ++ avgNTFilter(res.slice(res.length/2, res.length))\n",
    "val delNTSeq2 = delNTFilter(res.slice(0, res.length/2)) ++ delNTFilter(res.slice(res.length/2, res.length))"
   ]
  },
  {
   "cell_type": "code",
   "execution_count": null,
   "id": "70ee1840-75b3-482f-8a3c-6df75b887612",
   "metadata": {},
   "outputs": [],
   "source": [
    "plot(\n",
    "    Seq(\n",
    "        Scatter(xs, avgNTSeq2, \"avgNT\"),\n",
    "        Scatter(xs, delNTSeq2, \"delNT\")))"
   ]
  },
  {
   "cell_type": "markdown",
   "id": "b787ff0f-857e-4184-ad1f-284b33b2d09d",
   "metadata": {},
   "source": [
    "Так же, подобная реализация позволяет посмотреть характеристики фильтров, которые являются их неизменяемыми свойствами:"
   ]
  },
  {
   "cell_type": "code",
   "execution_count": null,
   "id": "b8ea2ecf-1487-4d90-a739-54e7ac54725a",
   "metadata": {},
   "outputs": [],
   "source": [
    "avgNTFilter.order\n",
    "avgNTFilter.b\n",
    "avgNTFilter.a"
   ]
  },
  {
   "cell_type": "code",
   "execution_count": null,
   "id": "b5902319-e883-4ec2-bce9-dd58af87e6bf",
   "metadata": {},
   "outputs": [],
   "source": [
    "delNTFilter.order\n",
    "delNTFilter.b\n",
    "delNTFilter.a"
   ]
  }
 ],
 "metadata": {
  "kernelspec": {
   "display_name": "Scala 2.12",
   "language": "scala",
   "name": "scala212"
  },
  "language_info": {
   "codemirror_mode": "text/x-scala",
   "file_extension": ".sc",
   "mimetype": "text/x-scala",
   "name": "scala",
   "nbconvert_exporter": "script",
   "version": "2.12.17"
  }
 },
 "nbformat": 4,
 "nbformat_minor": 5
}
