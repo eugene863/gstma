{
 "cells": [
  {
   "cell_type": "markdown",
   "id": "80db7311-ea96-449a-bda2-b303e4d7494d",
   "metadata": {},
   "source": [
    "Digital Filters on Scala\n",
    "========================\n",
    "\n",
    "Интерактивный вариант расчетов, используемых в кластере"
   ]
  },
  {
   "cell_type": "markdown",
   "id": "4ddee32d-099a-4a52-babc-ac2cfe6aff84",
   "metadata": {},
   "source": [
    "## Импорты\n",
    "\n",
    "Plotly для отрисовки графиков как алтернативна Matplotlib в Python-блокнотах.\n",
    "\n",
    "Предварительно необходимо установить расширение `jupyterlab-plotly`. Подробности смотрите\n",
    "[на странице проекта](https://github.com/alexarchambault/plotly-scala#jupyterlab)."
   ]
  },
  {
   "cell_type": "code",
   "execution_count": null,
   "id": "53cc4854-568a-4d19-88cf-17c8a159d779",
   "metadata": {},
   "outputs": [],
   "source": [
    "import $ivy.`org.plotly-scala::plotly-almond:0.8.4`\n",
    "import plotly._, plotly.element._, plotly.layout._, plotly.Almond._\n",
    "\n",
    "// if you want to have the plots available without an internet connection:\n",
    "// init(offline=true)\n",
    "\n",
    "// restrict the output height to avoid scrolling in output cells\n",
    "repl.pprinter() = repl.pprinter().copy(defaultHeight = 3)"
   ]
  },
  {
   "cell_type": "markdown",
   "id": "9f81e493-6dca-4c1d-98dc-b224d73ac6b1",
   "metadata": {},
   "source": [
    "Numsca -- легковесная замена Numpy"
   ]
  },
  {
   "cell_type": "code",
   "execution_count": null,
   "id": "216608ed-fbf0-4d43-8ff5-94dc99493015",
   "metadata": {},
   "outputs": [],
   "source": [
    "import $ivy.`be.botkop::numsca:0.1.5`\n",
    "import botkop.{numsca => ns}\n",
    "\n",
    "import math.sin"
   ]
  },
  {
   "cell_type": "markdown",
   "id": "ebb83939-9a4e-478a-991a-85dd89a8d6cf",
   "metadata": {},
   "source": [
    "## Расчеты\n",
    "\n",
    "Сымитируем тестовыю ситуацию с мелко- и крупно-масштабными возмущениями:"
   ]
  },
  {
   "cell_type": "code",
   "execution_count": null,
   "id": "534de04e-60ff-4c62-9c08-932714f4df07",
   "metadata": {},
   "outputs": [],
   "source": [
    "val xs = ns.linspace(0.0, 60.0, 100000).data.toSeq\n",
    "val res = xs.map(x => 2.0 + 0.3 * sin(x / 35) + 0.1 * sin(x * 500))\n",
    "\n",
    "plot(Seq(Scatter(xs, res)))"
   ]
  },
  {
   "cell_type": "markdown",
   "id": "235187fa-36ba-44b8-bd99-4719d2a0a0e5",
   "metadata": {
    "tags": []
   },
   "source": [
    "### Фильтры Баттерворта (импорт из проекта)"
   ]
  },
  {
   "cell_type": "code",
   "execution_count": null,
   "id": "55351111-7e0c-4b23-b3f8-7df9fd7d8375",
   "metadata": {},
   "outputs": [],
   "source": [
    "object DigitalFilters extends Serializable {\n",
    "  def avgNt(nt: Seq[Double], avgNt: Seq[Double]): Double = {\n",
    "    val b = Seq(\n",
    "      0.00000004863987500780838,\n",
    "      0.00000029183925004685027,\n",
    "      0.00000072959812511712565,\n",
    "      0.00000097279750015616753,\n",
    "      0.00000072959812511712565,\n",
    "      0.00000029183925004685027,\n",
    "      0.00000004863987500780838\n",
    "    )\n",
    "\n",
    "    val a = Seq(\n",
    "      -5.5145351211661655,\n",
    "      12.689113056515138,\n",
    "      -15.593635210704097,\n",
    "      10.793296670485379,\n",
    "      -3.9893594042308829,\n",
    "      0.6151231220526282\n",
    "    )\n",
    "\n",
    "    butterworthFilter(b, a, nt, avgNt)\n",
    "  }\n",
    "\n",
    "  def delNt(nt: Seq[Double], delNt: Seq[Double]): Double = {\n",
    "    val b = Seq(\n",
    "      0.076745906902313671,\n",
    "      0,\n",
    "      -0.23023772070694101,\n",
    "      0,\n",
    "      0.23023772070694101,\n",
    "      0,\n",
    "      -0.076745906902313671\n",
    "    )\n",
    "\n",
    "    val a = Seq(\n",
    "      -3.4767608600037727,\n",
    "      5.0801848641096203,\n",
    "      -4.2310052826910152,\n",
    "      2.2392861745041328,\n",
    "      -0.69437337677433475,\n",
    "      0.084273573849621822\n",
    "    )\n",
    "\n",
    "    butterworthFilter(b, a, nt, delNt)\n",
    "  }\n",
    "\n",
    "  @SuppressWarnings(Array(\"org.wartremover.warts.Throw\"))\n",
    "  private def butterworthFilter(b: Seq[Double], a: Seq[Double], bInputSeq: Seq[Double], aInputSeq: Seq[Double]): Double = {\n",
    "    if (b.length !== bInputSeq.length) throw\n",
    "      new IllegalArgumentException(s\"The length of b must be equal to bInputSeq length\")\n",
    "\n",
    "    if (a.length !== aInputSeq.length) throw\n",
    "      new IllegalArgumentException(s\"The length of a must be equal to aInputSeq length\")\n",
    "\n",
    "    (b, bInputSeq).zipped.map((x, y) => x * y).sum - (a, aInputSeq).zipped.map((x, y) => x * y).sum\n",
    "  }\n",
    "\n",
    "  @SuppressWarnings(Array(\"org.wartremover.warts.Equals\"))\n",
    "  implicit final class AnyOps[A](self: A) {\n",
    "    def !==(other: A): Boolean = self != other\n",
    "  }\n",
    "}"
   ]
  },
  {
   "cell_type": "markdown",
   "id": "57e579ae-b491-4e73-a668-89f3aac01d16",
   "metadata": {},
   "source": [
    "### Расчеты фильтров"
   ]
  },
  {
   "cell_type": "code",
   "execution_count": null,
   "id": "4dc1640b-e0ba-4e7f-8eb9-ad542eec3ad9",
   "metadata": {},
   "outputs": [],
   "source": [
    "import scala.collection.mutable\n",
    "\n",
    "val filterOrder = 6\n",
    "val zero: Double = 0\n",
    "\n",
    "val zeroSeq = mutable.Seq.fill[Double](filterOrder)(zero)\n",
    "val NTSeq = zeroSeq.padTo(filterOrder, zero) ++ res\n",
    "var avgNTSeq = zeroSeq.padTo(filterOrder + xs.length, zero)\n",
    "var delNTSeq = zeroSeq.padTo(filterOrder + xs.length, zero)"
   ]
  },
  {
   "cell_type": "code",
   "execution_count": null,
   "id": "4f688978-efe3-4953-a07e-a80108ab07bb",
   "metadata": {},
   "outputs": [],
   "source": [
    "for (i <- filterOrder until NTSeq.length) {\n",
    "    val nt7 = Seq(\n",
    "        NTSeq(i),\n",
    "        NTSeq(i - (filterOrder - 5)),\n",
    "        NTSeq(i - (filterOrder - 4)),\n",
    "        NTSeq(i - (filterOrder - 3)),\n",
    "        NTSeq(i - (filterOrder - 2)),\n",
    "        NTSeq(i - (filterOrder - 1)),\n",
    "        NTSeq(i - filterOrder))\n",
    "\n",
    "    avgNTSeq(i) = DigitalFilters.avgNt(nt7, Seq(avgNTSeq(i - 1), avgNTSeq(i - 2), avgNTSeq(i - 3), avgNTSeq(i - 4), avgNTSeq(i - 5), avgNTSeq(i - 6)))\n",
    "    delNTSeq(i) = DigitalFilters.delNt(nt7, Seq(delNTSeq(i - 1), delNTSeq(i - 2), delNTSeq(i - 3), delNTSeq(i - 4), delNTSeq(i - 5), delNTSeq(i - 6)))\n",
    "}"
   ]
  },
  {
   "cell_type": "code",
   "execution_count": null,
   "id": "a32881d3-e4e6-4f9d-9611-6d4e26ee3e06",
   "metadata": {},
   "outputs": [],
   "source": [
    "plot(\n",
    "    Seq(\n",
    "        Scatter(xs, avgNTSeq, \"avgNT\"),\n",
    "        Scatter(xs, delNTSeq, \"delNT\")))"
   ]
  }
 ],
 "metadata": {
  "kernelspec": {
   "display_name": "Scala 2.12",
   "language": "scala",
   "name": "scala212"
  },
  "language_info": {
   "codemirror_mode": "text/x-scala",
   "file_extension": ".sc",
   "mimetype": "text/x-scala",
   "name": "scala",
   "nbconvert_exporter": "script",
   "version": "2.12.17"
  }
 },
 "nbformat": 4,
 "nbformat_minor": 5
}
