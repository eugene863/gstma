{
 "cells": [
  {
   "cell_type": "markdown",
   "id": "c39a347d-655d-45ae-b53c-f1f942fb3f72",
   "metadata": {},
   "source": [
    "Графики помехоусточивости\n",
    "=========================\n",
    "\n",
    "Графики из монографии Маслов-Пашинцев."
   ]
  },
  {
   "cell_type": "markdown",
   "id": "60bc6277-6879-4ba1-903d-a2756c514f2b",
   "metadata": {},
   "source": [
    "## Импорты"
   ]
  },
  {
   "cell_type": "code",
   "execution_count": null,
   "id": "62688398-88cf-4b52-970f-83f71ab08382",
   "metadata": {},
   "outputs": [],
   "source": [
    "import $ivy.`be.botkop::numsca:0.1.5`\n",
    "import botkop.{numsca => ns}"
   ]
  },
  {
   "cell_type": "code",
   "execution_count": null,
   "id": "eb2fe4ab-ff72-488e-beed-5019de3b276c",
   "metadata": {},
   "outputs": [],
   "source": [
    "import $ivy.`org.plotly-scala::plotly-almond:0.8.5`\n",
    "import plotly._, plotly.element._, plotly.layout._, plotly.Almond._\n",
    "\n",
    "// if you want to have the plots available without an internet connection:\n",
    "// init(offline=true)\n",
    "\n",
    "// restrict the output height to avoid scrolling in output cells\n",
    "repl.pprinter() = repl.pprinter().copy(defaultHeight = 3)"
   ]
  },
  {
   "cell_type": "markdown",
   "id": "e427a0ef-3135-4e55-abd5-b6f412c3a761",
   "metadata": {},
   "source": [
    "## Исходные данные"
   ]
  },
  {
   "cell_type": "code",
   "execution_count": null,
   "id": "d5806fb8-a991-4b35-a5ab-f6bda416433b",
   "metadata": {},
   "outputs": [],
   "source": [
    "// Марк:\n",
    "// - 10^13 .. 10^14 эл/м^2 для нормальной ионосферы без возмущений\n",
    "// - 10^14 .. 10^15 эл/м^2 для нормальной ионосферы со слабыми естественными\n",
    "//   возмущениями\n",
    "// - 10^15 .. 10^16 эл/м^2 для нормальной ионосферы с сильными возмущениями\n",
    "val sigma_d_nts = ns.array(1.0, 10.0, 50.0, 100.0, 150.0, 1000.0) * 1e13\n",
    "\n",
    "// Марк: 0.44 Ггц, но больший диапазон интереснее\n",
    "// f_0s = np.array([0.44, 0.5, 0.55, 0.6, 0.7]) * 1e9\n",
    "val f_0s = ns.linspace(0.1, 10, 1000) * 1e9\n",
    "\n",
    "val l_ss = ns.array(200.0, 300.0, 400.0, 500.0, 600.0, 700.0, 800.0)\n",
    "\n",
    "// Марк: высота максимума ионизации, м\n",
    "val hm = 300 * 1e3\n",
    "val z_e = 500 * 1e3\n",
    "val z1 = hm - (z_e / 2)\n",
    "val z = z1 + z_e"
   ]
  },
  {
   "cell_type": "markdown",
   "id": "bdc45197-4271-4dcf-b74b-67d5f6bc227e",
   "metadata": {},
   "source": [
    "## СКО флуктуаций фазового фронта волны  на выходе неоднородного слоя $\\sigma_{\\varphi}$\n",
    "\n",
    "$$\\sigma_{\\phi} = {\n",
    "{\n",
    "  80.8\n",
    "    \\cdot \\pi^{5/4}\n",
    "    \\cdot \\left(\n",
    "            l_s\n",
    "              \\cdot z_{э}\n",
    "              \\cdot \\sec{\\theta_0}\n",
    "          \\right) ^{1/2}\n",
    "    \\cdot \\sigma_{\\Delta N}\n",
    "}\n",
    "  \\over\n",
    "{\n",
    "  c \\cdot f_0\n",
    "}\n",
    "}$$\n",
    "\n",
    "$$\\sigma_{\\phi} = {\n",
    "  \\left( {80.8 \\cdot \\pi} \\over {C} \\right)\n",
    "    \\cdot \\left( \\sigma_{\\Delta N_t} \\over f_0 \\right)\n",
    "    \\cdot \\sec{\\theta_0}\n",
    "}$$"
   ]
  },
  {
   "cell_type": "code",
   "execution_count": null,
   "id": "dbc32729-0c36-4d5d-9365-a55178afe0f6",
   "metadata": {},
   "outputs": [],
   "source": [
    "import math.{Pi, sin, cos, sqrt, pow, log, exp, random}"
   ]
  },
  {
   "cell_type": "code",
   "execution_count": null,
   "id": "b5826a39-75a8-4702-a214-e4282db3b44f",
   "metadata": {},
   "outputs": [],
   "source": [
    "val C = 299792458.0\n",
    "val theta_0 = (90.0).toRadians"
   ]
  },
  {
   "cell_type": "code",
   "execution_count": null,
   "id": "bf8a00bf-c46e-404e-a4dc-e18e471bc9c5",
   "metadata": {},
   "outputs": [],
   "source": [
    "def sigma_phi(f_0s: botkop.numsca.Tensor, sigma_d_nt: Double, theta_0: Double): botkop.numsca.Tensor = {\n",
    "    (80.8 * Pi / C) * (sigma_d_nt / f_0s) * sqrt(1.0 / cos(theta_0) )\n",
    "}"
   ]
  },
  {
   "cell_type": "code",
   "execution_count": null,
   "id": "239512b0-17e9-4a5b-82d7-68e72af66f34",
   "metadata": {},
   "outputs": [],
   "source": [
    "{{\n",
    "    val data = sigma_d_nts.data.map((s) => {\n",
    "        Scatter(\n",
    "            f_0s.data.toSeq,\n",
    "            sigma_phi(f_0s, s * (f_0s.shape(1)), theta_0).data.toSeq,\n",
    "            name = \"\"\"%.2g\"\"\".format(s)\n",
    "        )\n",
    "    }).toSeq\n",
    "\n",
    "    var lay = Layout(width = 600, height = 500)\n",
    "        .withTitle(\"\"\"sigma_phi(f_0), Рад\"\"\")\n",
    "        .withXaxis(Axis(\"\"\"f_0, Гц\"\"\"))\n",
    "        .withYaxis(Axis(\"\"\"sigma_phi, Рад\"\"\")\n",
    "                  .withType(AxisType.Log))\n",
    "\n",
    "    plot(data, lay)\n",
    "}}"
   ]
  },
  {
   "cell_type": "markdown",
   "id": "9fbc1680-2d90-401f-a11b-e3ba80b314e1",
   "metadata": {},
   "source": [
    "## Коэффициент нарастания дифракционных эффектов во фронте волны внутри ионосферы и за ней до точки приёма $d_1^2$"
   ]
  },
  {
   "cell_type": "code",
   "execution_count": null,
   "id": "13afc1b5-93d0-451b-afbb-500dcdbfae6b",
   "metadata": {},
   "outputs": [],
   "source": [
    "// old\n",
    "def d1_2_old(f_0s: botkop.numsca.Tensor, z: Double, z_e: Double, l_s: Double): botkop.numsca.Tensor = {\n",
    "  (3 * (z * z) - 3 * z * z_e + (z_e * z_e)) /\n",
    "    (6 * ns.power(2 * Pi * f_0s / C, 2)) * (pow(l_s, (-4)) / 8)\n",
    "}\n",
    "\n",
    "\n",
    "// modified\n",
    "def d1_2_modified(f_0: botkop.numsca.Tensor, z: Double, z_e: Double, l_s: Double): botkop.numsca.Tensor = {\n",
    "  (3 * (z * z) - 3 * z * z_e + (z_e * z_e)) /\n",
    "    (6 * ns.power(2 * Pi * f_0 / C, 2)) * 32 * pow(l_s, -4)\n",
    "}"
   ]
  },
  {
   "cell_type": "code",
   "execution_count": null,
   "id": "dba984ec-8337-4942-a634-66736873213a",
   "metadata": {},
   "outputs": [],
   "source": [
    "{{\n",
    "    val lay = Layout(width = 600, height = 500)\n",
    "        .withXaxis(Axis(\"\"\"f_0, Гц\"\"\"))\n",
    "        .withYaxis(Axis(\"\"\"l_s, м\"\"\").withType(AxisType.Log))\n",
    "\n",
    "    {{\n",
    "        var data = l_ss.data.map((l_s) => {\n",
    "            Scatter(\n",
    "                f_0s.data.toSeq,\n",
    "                d1_2_old(f_0s, z1, z_e, l_s).data.toSeq,\n",
    "                name = \"\"\"%.3s\"\"\".format(l_s)\n",
    "            )\n",
    "        })\n",
    "\n",
    "        plot(data, lay.withTitle(\"d_1^2(f_0)\"))\n",
    "    }}\n",
    "\n",
    "    {{\n",
    "        var data = l_ss.data.map((l_s) => {\n",
    "            Scatter(\n",
    "                f_0s.data.toSeq,\n",
    "                d1_2_modified(f_0s, z1, z_e, l_s).data.toSeq,\n",
    "                name = \"\"\"%.3s\"\"\".format(l_s)\n",
    "            )\n",
    "        })\n",
    "\n",
    "        plot(data, lay.withTitle(\"d_{1, мод}^2(f_0)\"))\n",
    "    }}\n",
    "}}"
   ]
  },
  {
   "cell_type": "markdown",
   "id": "4104625f-f935-431f-ae0c-232919e47a71",
   "metadata": {},
   "source": [
    "## Традиционный интервал частотной корреляции замираний в однолучевой ДКМ радиолинии $F_{k_0}$"
   ]
  },
  {
   "cell_type": "code",
   "execution_count": null,
   "id": "8cd22e34-e97e-4754-9ddf-ca3cd3ab36d9",
   "metadata": {},
   "outputs": [],
   "source": [
    "// old\n",
    "def F_k0_old(f_0s: botkop.numsca.Tensor, sigma_d_nt: Double, theta_0: Double, z: Double, z_e: Double, l_s: Double): botkop.numsca.Tensor = {\n",
    "  val sqr = ns.sqrt(2 + d1_2_old(f_0s, z, z_e, l_s))\n",
    "  val s = sigma_phi(f_0s, sigma_d_nt, theta_0)\n",
    "\n",
    "  f_0s / (s * sqr)\n",
    "}\n",
    "\n",
    "\n",
    "// modified\n",
    "def F_k0_modified(f_0s: botkop.numsca.Tensor, sigma_d_nt: Double, theta_0: Double, z: Double, z_e: Double, l_s: Double): botkop.numsca.Tensor = {\n",
    "  val sqr = ns.sqrt(2 + d1_2_modified(f_0s, z, z_e, l_s))\n",
    "  val s = sigma_phi(f_0s, sigma_d_nt, theta_0)\n",
    "\n",
    "  f_0s / (s * sqr)\n",
    "}\n",
    "\n",
    "// fig, ax = plt.subplots(1, 2, figsize=(9, 4))\n",
    "val theta_0 = (90.0).toRadians\n",
    "val l_s = 380"
   ]
  },
  {
   "cell_type": "code",
   "execution_count": null,
   "id": "4be9b59e-ed23-4b19-b392-5efde58e23f3",
   "metadata": {},
   "outputs": [],
   "source": [
    "// TODO:\n",
    "{{\n",
    "    var lay = Layout(width = 600, height = 500)\n",
    "        .withXaxis(Axis(\"\"\"f_0, Гц\"\"\").withType(AxisType.Log))\n",
    "        .withYaxis(Axis(\"\"\"F_k_0, Гц\"\"\").withType(AxisType.Log))\n",
    "\n",
    "    {{\n",
    "        var data = sigma_d_nts.data.map((s) => {\n",
    "            Scatter(\n",
    "                f_0s.data.toSeq,\n",
    "                F_k0_old(f_0s, s, theta_0, z, z_e, l_s).data.toSeq,\n",
    "                name = \"\"\"%.2g\"\"\".format(s)\n",
    "            )\n",
    "        })\n",
    "\n",
    "        plot(data, lay.withTitle(\"F_{k_0}(f_0), Гц\"))\n",
    "    }}\n",
    "\n",
    "    {{\n",
    "        var data = sigma_d_nts.data.map((s) => {\n",
    "            Scatter(\n",
    "                f_0s.data.toSeq,\n",
    "                F_k0_modified(f_0s, s, theta_0, z, z_e, l_s).data.toSeq,\n",
    "                name = \"\"\"%.2g\"\"\".format(s)\n",
    "            )\n",
    "        })\n",
    "\n",
    "        plot(data, lay.withTitle(\"F_{k_{0}, мод.}(f_0), Гц\"))\n",
    "    }}\n",
    "}}"
   ]
  },
  {
   "cell_type": "markdown",
   "id": "21bd4462-5e5b-4c22-95e8-ca844826aa86",
   "metadata": {},
   "source": [
    "## Понижающий коэффициент $\\Delta F_{k_0}$"
   ]
  },
  {
   "cell_type": "code",
   "execution_count": null,
   "id": "ee1f24f3-db65-490e-baf8-f59a15632623",
   "metadata": {},
   "outputs": [],
   "source": [
    "// new\n",
    "def dF_k0(f_0s: botkop.numsca.Tensor, sigma_d_nt: Double, theta_0: Double): botkop.numsca.Tensor = {\n",
    "    val s = sigma_phi(f_0s, sigma_d_nt, theta_0)\n",
    "    val s2 = s * s\n",
    "    val v = 1 - ns.exp(-s2) + ns.exp(1 - s2)\n",
    "    val lg = ns.log(v)\n",
    "\n",
    "    ns.sqrt(1 - lg)\n",
    "}\n",
    "\n",
    "// fig, ax = plt.subplots()\n",
    "val theta_0 = (90.0).toRadians"
   ]
  },
  {
   "cell_type": "code",
   "execution_count": null,
   "id": "68332cf9-5fc2-4c18-b452-13d9007a44d6",
   "metadata": {},
   "outputs": [],
   "source": [
    "// TODO\n",
    "{{\n",
    "    var data = sigma_d_nts.data.map((s) => {\n",
    "        Scatter(\n",
    "            f_0s.data.toSeq,\n",
    "            dF_k0(f_0s, s, theta_0).data.toSeq,\n",
    "            name = \"\"\"%.2g\"\"\".format(s)\n",
    "        )\n",
    "    })\n",
    "\n",
    "    var lay = Layout(width = 600, height = 500)\n",
    "        .withTitle(\"\"\"delta F_k_0(f_0), Гц\"\"\")\n",
    "        .withXaxis(Axis(\"\"\"f_0, Гц\"\"\"))\n",
    "        .withYaxis(Axis(\"\"\"delta F_k_0, Гц\"\"\"))\n",
    "\n",
    "    plot(data, lay)\n",
    "}}"
   ]
  },
  {
   "cell_type": "markdown",
   "id": "8ddc2a07-d67e-495e-9050-27d68341a7de",
   "metadata": {},
   "source": [
    "## Интервал частотной корреляции замираний в однолучевой ДКМ радиолинии $F_k$"
   ]
  },
  {
   "cell_type": "code",
   "execution_count": null,
   "id": "b3d9fc41-5ba2-4cf4-9f6f-1e7625ede9ca",
   "metadata": {},
   "outputs": [],
   "source": [
    "// old\n",
    "def F_k_old(f_0s: botkop.numsca.Tensor, sigma_d_nt: Double, theta_0: Double, z: Double, z_e: Double, l_s: Double): botkop.numsca.Tensor = {\n",
    "    val _F_k0 = F_k0_old(f_0s, sigma_d_nt, theta_0, z, z_e, l_s)\n",
    "\n",
    "    _F_k0\n",
    "}\n",
    "\n",
    "\n",
    "// modified\n",
    "def F_k_modified(f_0s: botkop.numsca.Tensor, sigma_d_nt: Double, theta_0: Double, z: Double, z_e: Double, l_s: Double): botkop.numsca.Tensor = {\n",
    "    val _F_k0 = F_k0_modified(f_0s, sigma_d_nt, theta_0, z, z_e, l_s)\n",
    "    val _dF_k0 = dF_k0(f_0s, sigma_d_nt, theta_0)\n",
    "\n",
    "    _F_k0 * _dF_k0\n",
    "}\n",
    "\n",
    "val l_s = 380\n",
    "val theta_0 = (90.0).toRadians"
   ]
  },
  {
   "cell_type": "code",
   "execution_count": null,
   "id": "97beb004-e7d1-4bcc-ba0b-fb4215606d90",
   "metadata": {},
   "outputs": [],
   "source": [
    "// TODO:\n",
    "\n",
    "{{\n",
    "    var lay = Layout(width = 600, height = 500)\n",
    "        .withXaxis(Axis(\"\"\"f_0, Гц\"\"\").withType(AxisType.Log))\n",
    "        .withYaxis(Axis(\"\"\"F_k_0, Гц\"\"\").withType(AxisType.Log))\n",
    "\n",
    "    {{\n",
    "        var data = sigma_d_nts.data.map((s) => {\n",
    "            Scatter(\n",
    "                f_0s.data.toSeq,\n",
    "                F_k_old(f_0s, s, theta_0, z, z_e, l_s).data.toSeq,\n",
    "                name = \"\"\"%.2g\"\"\".format(s)\n",
    "            )\n",
    "        })\n",
    "        plot(data, lay.withTitle(\"\"\"F_k(f_0), Гц\"\"\"))\n",
    "    }}\n",
    "\n",
    "    {{\n",
    "        var data = sigma_d_nts.data.map((s) => {\n",
    "            Scatter(\n",
    "                f_0s.data.toSeq,\n",
    "                F_k_modified(f_0s, s, theta_0, z, z_e, l_s).data.toSeq,\n",
    "                name = \"\"\"%.2g\"\"\".format(s)\n",
    "            )\n",
    "        })\n",
    "        plot(data, lay.withTitle(\"\"\"F_k_мод(f_0), Гц\"\"\"))\n",
    "    }}\n",
    "}}"
   ]
  },
  {
   "cell_type": "markdown",
   "id": "75dc9360-606c-4c54-acee-14faf5a989f5",
   "metadata": {},
   "source": [
    "## Зависимость интервала частотной корреляции $F_k$ замираний и понижающего коэффициента $\\Delta F_{k_0}$ от отношения $f_0 / f_m$ при $\\beta_{и}$"
   ]
  },
  {
   "cell_type": "code",
   "execution_count": null,
   "id": "39a5f276-b222-4dac-9fb8-946aa89d3bf3",
   "metadata": {},
   "outputs": [],
   "source": [
    "// F_k_F_k_0 (модифицированная)\n",
    "val theta_0 = (90.0).toRadians\n",
    "\n",
    "val f_m = (15 * 1e6)\n",
    "val f_0s = ns.linspace(0.2, 1.0, 1000) * f_m\n",
    "val f_0m = f_0s / f_m\n",
    "\n",
    "// TODO:\n",
    "val l_s = 380\n",
    "val s = 1e13 // sigma_d_nt\n",
    "\n",
    "plot(\n",
    "    Seq(\n",
    "        Scatter(f_0s.data.toSeq, F_k_modified(f_0s, s, theta_0, z, z_e, l_s).data.toSeq, name = \"мод. $F_k$\"),\n",
    "        Scatter(f_0s.data.toSeq, F_k0_modified(f_0s, s, theta_0, z, z_e, l_s).data.toSeq, name = \"мод. $F_{k_0}$\"),\n",
    "        Scatter(f_0s.data.toSeq, dF_k0(f_0s, s, theta_0).data.toSeq, name = \"\"\"F_k_0\"\"\")\n",
    "    ),\n",
    "    Layout(width = 600, height = 500)\n",
    "        .withTitle(\"\"\"F_k(f_0), F_k_0, Гц\"\"\")\n",
    "        .withXaxis(Axis(\"\"\"f_0 / f_m, n\"\"\"))\n",
    "        .withYaxis(Axis(\"\"\"F_k(f_0), F_k_0, Гц\"\"\"))\n",
    ")"
   ]
  },
  {
   "cell_type": "markdown",
   "id": "4e33ad8e-3e2a-49f1-9c7b-03ac0f06ea69",
   "metadata": {},
   "source": [
    "## Какой интеграл Френеля взять\n",
    "\n",
    "Интеграл Френеля в книге отличается от того, что предлагает Scipy."
   ]
  },
  {
   "cell_type": "code",
   "execution_count": null,
   "id": "b6c52ae7-65f8-4819-962f-507ad7ad0e23",
   "metadata": {},
   "outputs": [],
   "source": [
    "import $ivy.`org.scalanlp::breeze:2.1.0`\n",
    "import breeze.integrate._\n",
    "import breeze.numerics._"
   ]
  },
  {
   "cell_type": "code",
   "execution_count": null,
   "id": "cdbbc6c0-90f4-4a30-920a-230b4072e86d",
   "metadata": {},
   "outputs": [],
   "source": [
    "def fresnel_C(z: ns.Tensor): ns.Tensor = {\n",
    "    ns.Tensor(z.data.map((z_i) => {\n",
    "        trapezoid((t) => cos(Pi * t * t / 2), 0, z_i, 1000)\n",
    "    }))\n",
    "}\n",
    "\n",
    "def Fp(x: ns.Tensor): ns.Tensor = {\n",
    "    def fp(_x: Double): Double = {\n",
    "        cos(_x) / sqrt(_x)\n",
    "    }\n",
    "\n",
    "    ns.Tensor(x.data.map((i) => {\n",
    "        val _v = trapezoid(fp, 0.0, i, 1000)\n",
    "        (1.0 / (2.0 * Pi)) * _v\n",
    "    }))\n",
    "}\n",
    "\n",
    "{{\n",
    "    val xs = ns.linspace(0.1, 10.0, 1000)\n",
    "\n",
    "    val C = fresnel_C(xs)\n",
    "    val Cp = Fp(xs)\n",
    "    val Cpm = 2.5 * Fp(xs * Pi)\n",
    "    var handles = Seq()\n",
    "\n",
    "    {{\n",
    "        val plots = (Seq(C, Cp, Cpm)\n",
    "          zip Seq(raw\"Из Scipy\", raw\"Из книги\", raw\"Из книги (модифицированная)\")).map({\n",
    "            case (d, l) => {\n",
    "              Scatter(xs.data.toSeq, d.data.toSeq, l) // ax[0].semilogx(xs, d, label=l)\n",
    "          }})\n",
    "\n",
    "        plot(plots, Layout(width = 600, height = 500))\n",
    "    }}\n",
    "\n",
    "    val FF = ns.linspace(0.1, 6.0, 1000)\n",
    "    val eta_d = ((Pi / (2.0 * (FF ** 2))) * ns.power(fresnel_C(FF ** 2) ** 2, 2.0))\n",
    "    val eta_dp = ((Pi / (2.0 * (FF ** 2))) * ns.power(Fp(FF ** 2), 2.0))\n",
    "\n",
    "    {{\n",
    "        val plots = (Seq(eta_d, eta_dp, eta_d)\n",
    "          zip Seq(raw\"Из Scipy\", raw\"Из книги\", raw\"Из книги (модифицированная)\")).map({\n",
    "            case (d, l) => {\n",
    "              Scatter(FF.data.toSeq, d.data.toSeq, l) // ax[1].semilogx(FF, d, label=l)\n",
    "          }})\n",
    "\n",
    "        plot(plots, Layout(width = 600, height = 500))\n",
    "    }}\n",
    "}}"
   ]
  },
  {
   "cell_type": "markdown",
   "id": "e9fdaeed-be70-4145-802b-24cd024b7686",
   "metadata": {},
   "source": [
    "## Оценка помехоусточивости\n",
    "\n",
    "### Исходные данные\n",
    "\n",
    "**Параметры ионосферы:**\n",
    "\n",
    "-   Максимум средней ЭК ${\\bar{N_m}}$, $эл/м^3$;\n",
    "-   Интенсивность неоднородностей $\\beta$;\n",
    "-   СКО флуктуаций ЭК ${\\sigma_{\\Delta N}}$, $эл/м^3$."
   ]
  },
  {
   "cell_type": "code",
   "execution_count": null,
   "id": "1abcd047-0e73-4d27-bdfc-c620ec3296c6",
   "metadata": {},
   "outputs": [],
   "source": [
    "case class IonParams(\n",
    "    label: String,\n",
    "    N_m: Double, // эл/м^3\n",
    "    betta: Double, // betta * N_m\n",
    "    sigma_delta_N: Double, // эл/м^3,\n",
    "    var sigma_d_nt: Double\n",
    ")"
   ]
  },
  {
   "cell_type": "code",
   "execution_count": null,
   "id": "079e235a-d20e-45f7-831c-f028ea7016b0",
   "metadata": {},
   "outputs": [],
   "source": [
    "var ion_params = Seq(\n",
    "    IonParams(\"nigth\", 2.4 * 1e11,  1e-2,       2.4 * 1e9, 0),\n",
    "    IonParams(\"day\",   1.4 * 1e12,  3 * 1e-3,   4.2 * 1e9, 0),\n",
    "    IonParams(\"evi\",   1.4 * 1e12,  3.6 * 1e-2, 5.0 * 1e10, 0),\n",
    "    IonParams(\"ivil\",  1.0 * 1e13,  5.0 * 1e-1, 5.0 * 1e12, 0),\n",
    "    IonParams(\"ivib\",  5.0 * 1e13,  1.0,        5.0 * 1e13, 0)\n",
    ")"
   ]
  },
  {
   "cell_type": "code",
   "execution_count": null,
   "id": "91446b04-3fa3-496f-9fd8-b5c395a763c4",
   "metadata": {},
   "outputs": [],
   "source": [
    "val l_s = 200\n",
    "\n",
    "def calc_sigma_d_nt(l_s: Double, z_e: Double, sigma_d_n: Double): Double = {\n",
    "    sqrt(sqrt(Pi) * l_s * z_e) * sigma_d_n\n",
    "}\n",
    "\n",
    "ion_params = ion_params.map((row) => {\n",
    "    row.sigma_d_nt = calc_sigma_d_nt(l_s, z_e, row.sigma_delta_N)\n",
    "    row\n",
    "})"
   ]
  },
  {
   "cell_type": "markdown",
   "id": "e596db49-6660-4ccf-807a-f52ace895bab",
   "metadata": {},
   "source": [
    "**Параметры сигналов:**\n",
    "\n",
    "-   Несущая частота $f_0$, $Гц$;\n",
    "-   Скорость передачи $R_T = 1 / T_S$, $бит/с$;\n",
    "-   Период передачи 1 бит $T_S$, $с$;\n",
    "-   Ширина спектра $F_0 = B_S / T_S$, $Гц$;\n",
    "-   Угол возвышения $\\theta_0$, $градусы$."
   ]
  },
  {
   "cell_type": "code",
   "execution_count": null,
   "id": "9f87315e-84bf-453d-8d72-e3e2713c36de",
   "metadata": {},
   "outputs": [],
   "source": [
    "val f_0 = 400 * 1e6 // Гц\n",
    "val R_T = 2.7 * 1e3 // бит/с\n",
    "val T_S = 1.0 / R_T // c/бит\n",
    "val theta_0 = (60.0).toRadians // NumPy использует радианы по-умолчанию\n",
    "\n",
    "val B_S = 1.0       // простые сигналы\n",
    "val F_0 = B_S / T_S // ширина спектра\n",
    "\n",
    "val sigma_d_nts = ns.Tensor(ion_params.map((r) => r.sigma_d_nt).toArray)\n",
    "val sigma_phis = ns.Tensor(sigma_d_nts.data.map((s) => sigma_phi(ns.Tensor(f_0), s, theta_0).squeeze))"
   ]
  },
  {
   "cell_type": "markdown",
   "id": "295d692a-a840-4fd5-a31c-fa057d744faa",
   "metadata": {},
   "source": [
    "### Зависимость СКО флуктуаций фазового фронта волны $\\sigma_\\varphi$ от sigma_d_nts"
   ]
  },
  {
   "cell_type": "code",
   "execution_count": null,
   "id": "862ff6b8-e575-4b6e-abe9-33130648e7ec",
   "metadata": {},
   "outputs": [],
   "source": [
    "plot(\n",
    "    Seq(Scatter(sigma_d_nts.data.toSeq, sigma_phis.data.toSeq)),\n",
    "    Layout(width = 600, height = 500)\n",
    "        .withTitle(\"\"\"sigma_phi(sigma_Delta N_t), Рад\"\"\")\n",
    "        .withXaxis(Axis(\"\"\"sigma_Delta N_t, эл/м^2\"\"\"))\n",
    "        .withYaxis(Axis(\"\"\"sigma_phi, Рад\"\"\"))\n",
    ")"
   ]
  },
  {
   "cell_type": "markdown",
   "id": "7b294437-f63b-4f05-9f3d-41ef9d6ad852",
   "metadata": {},
   "source": [
    "### Глубина общих БЗ $\\gamma^2$\n",
    "\n",
    "$$\\gamma^2 = {{1} \\over {\\exp{\\sigma_{\\phi}^2} - 1}}$$"
   ]
  },
  {
   "cell_type": "code",
   "execution_count": null,
   "id": "05a871ae-75aa-44ca-830f-a954663f6019",
   "metadata": {},
   "outputs": [],
   "source": [
    "def gamma2(sigma_phi: ns.Tensor): ns.Tensor = {\n",
    "    1.0 / (ns.exp(sigma_phi ** 2) - 1)\n",
    "}\n",
    "\n",
    "val gamma_2s = gamma2(sigma_phis)\n",
    "\n",
    "plot(\n",
    "    Seq(Scatter(sigma_phis.data.toSeq, gamma_2s.data.toSeq)),\n",
    "    Layout(width = 600, height = 500)\n",
    "        .withTitle(\"\"\"gamma^2(sigma_phi})\"\"\")\n",
    "        .withXaxis(Axis(\"\"\"sigma_phi, Рад\"\"\").withType(AxisType.Log))\n",
    "        .withYaxis(Axis(\"\"\"gamma^2\"\"\"))\n",
    ")"
   ]
  },
  {
   "cell_type": "markdown",
   "id": "663d4896-38a5-4de0-9b6d-c99994f7fe97",
   "metadata": {},
   "source": [
    "### Полоса когерентности F_К\n",
    "\n",
    "$$F_{К} = {\n",
    "  {f_0^2 \\cdot c}\n",
    "    \\over\n",
    "  {\n",
    "    80.8\n",
    "      \\cdot \\pi^{5/4}\n",
    "      \\cdot \\left(\n",
    "              2 \\cdot l_s \\cdot z_{э} \\cdot \\sec{\\theta_0}\n",
    "            \\right) ^{1/2}\n",
    "      \\cdot \\sigma_{\\Delta N}\n",
    "      \\cdot Д_1\n",
    "  }\n",
    "}$$\n",
    "\n",
    "$$Д_1 = {1+d_1^2 \\over 2}$$\n",
    "\n",
    "$$d_1^2 = {\n",
    "  {\n",
    "    \\left(\n",
    "      3 \\cdot z^2 - 3 \\cdot z \\cdot z_{э} + z_{э}^2\n",
    "    \\right)\n",
    "    \\cdot c^2\n",
    "    \\cdot \\sec{\\theta_0}^2\n",
    "  }\n",
    "    \\over\n",
    "  { 192 \\cdot \\pi^2 \\cdot f_0^2 \\cdot l_s^4 }\n",
    "}$$\n",
    "\n",
    "$$F_{К} = {\n",
    "  {f_0}\n",
    "    \\over\n",
    "  {\n",
    "    \\sigma_{\\phi} \\cdot \\sqrt{2 + d_1^2}\n",
    "  }\n",
    "}$$\n",
    "\n",
    "$$d_1^2 = {\n",
    "  {{\n",
    "    \\left(\n",
    "      3 \\cdot z^2 - 3 \\cdot z \\cdot z_{э} + z_{э}^2\n",
    "    \\right)\n",
    "    \\cdot c^2\n",
    "    \\cdot \\sec{\\theta_0}^2\n",
    "  }\n",
    "    \\over\n",
    "  { 6 \\cdot (\\pi \\cdot f_0 / C)^2}}\n",
    "  \\cdot (l_s^{-4} / 8)\n",
    "}$$"
   ]
  },
  {
   "cell_type": "code",
   "execution_count": null,
   "id": "28b6d227-8956-447b-959c-bb305207ad38",
   "metadata": {},
   "outputs": [],
   "source": [
    "val F_ks = ns.Tensor(sigma_d_nts.data.map((s) => F_k_old(ns.Tensor(f_0), s, theta_0, z, z_e, l_s).squeeze))\n",
    "\n",
    "plot(\n",
    "    Seq(\n",
    "        Scatter(sigma_d_nts.data.toSeq, F_ks.data.toSeq)),\n",
    "    Layout(width = 600, height = 500)\n",
    "        .withTitle(\"\"\"F_k(sigma_Delta N_t), Гц\"\"\")\n",
    "        .withXaxis(Axis(\"\"\"sigma_Delta N_t, эл/м^2\"\"\").withType(AxisType.Log))\n",
    "        .withYaxis(Axis(\"\"\"F_k, Гц\"\"\"))\n",
    ")"
   ]
  },
  {
   "cell_type": "markdown",
   "id": "01a0d700-7b85-430e-9e60-170a32d0e4c3",
   "metadata": {},
   "source": [
    "### Полоса диспертности $F_{Д}$\n",
    "\n",
    "$$F_{д} = {\n",
    "  \\left(\n",
    "    {c \\cdot f_{0}^3}\n",
    "      \\over\n",
    "    {\n",
    "      80.8\n",
    "        \\cdot \\pi\n",
    "        \\cdot \\bar{N_m}\n",
    "        \\cdot z_{э}\n",
    "        \\cdot \\sec{\\theta_0}\n",
    "    }\n",
    "  \\right) ^{1/2}\n",
    "}$$\n",
    "\n",
    "$$F_{Д} = {\n",
    "  \\sqrt{\n",
    "    {C \\cdot f_{0}^3}\n",
    "      \\over\n",
    "    {\n",
    "      80.8 \\cdot \\pi \\cdot \\bar{N_m} \\cdot z_{э} \\cdot \\sec{\\theta_0}\n",
    "    }\n",
    "  }\n",
    "}$$"
   ]
  },
  {
   "cell_type": "code",
   "execution_count": null,
   "id": "5de9b5ed-dd21-42be-8974-4b9442d226bb",
   "metadata": {},
   "outputs": [],
   "source": [
    "def F_d(f_0: Double, N_m: Double, z_e: Double, theta_0: Double): Double = {\n",
    "    sqrt(C * (f_0 * f_0 * f_0) / (80.8 * Pi * N_m * z_e * (1.0 / cos(theta_0))))\n",
    "}\n",
    "\n",
    "val N_ms = ns.Tensor(ion_params.map((r) => r.N_m).toArray)\n",
    "val F_ds = ns.Tensor(N_ms.data.map((n) => F_d(f_0, n, z_e, theta_0)))\n",
    "\n",
    "plot(\n",
    "    Seq(Scatter(N_ms.data.toSeq, F_ds.data.toSeq)),\n",
    "    Layout(width = 600, height = 500)\n",
    "        .withTitle(\"\"\"F_d(N_m), Гц\"\"\")\n",
    "        .withXaxis(Axis(\"\"\"N_m\"\"\"))\n",
    "        .withYaxis(Axis(\"\"\"F_d, Гц\"\"\"))\n",
    ")"
   ]
  },
  {
   "cell_type": "markdown",
   "id": "56a32be0-4844-4a57-be56-cf12002b2e66",
   "metadata": {},
   "source": [
    "### F_0 / F_k"
   ]
  },
  {
   "cell_type": "code",
   "execution_count": null,
   "id": "20fe4e11-639e-4df9-a714-a00d9d9546cd",
   "metadata": {},
   "outputs": [],
   "source": [
    "val F_0_over_F_k = F_0 / F_ks"
   ]
  },
  {
   "cell_type": "markdown",
   "id": "3fe9795b-915c-4506-9145-da8decd70721",
   "metadata": {},
   "source": [
    "### F_0 / F_d"
   ]
  },
  {
   "cell_type": "code",
   "execution_count": null,
   "id": "df2936de-db4c-4e58-b466-356a212d5c5e",
   "metadata": {},
   "outputs": [],
   "source": [
    "val F_0_over_F_d = F_0 / F_ds"
   ]
  },
  {
   "cell_type": "markdown",
   "id": "1f4b06c5-b5de-46dd-8e5c-17e824fab3f8",
   "metadata": {},
   "source": [
    "### Степень МСИ $\\eta_{м}$\n",
    "\n",
    "$$\\eta_{м} = {\n",
    "  {{1} \\over {2 \\cdot \\pi^2}}\n",
    "    \\cdot \\left( {{1} \\over {T_S \\cdot F_K}} \\right)^2\n",
    "    \\cdot erf \\left( {\\pi \\cdot T_S \\cdot F_K} \\right) -\n",
    "  {{1} \\over {\\pi \\cdot \\sqrt{\\pi}}}\n",
    "    \\cdot \\left( {{1} \\over {T_S \\cdot F_K}} \\right)\n",
    "    \\cdot \\exp(- (\\pi \\cdot T_S \\cdot F_K)^2)\n",
    "}$$"
   ]
  },
  {
   "cell_type": "code",
   "execution_count": null,
   "id": "11980dc0-2a41-4023-a9bf-a652ff9067f9",
   "metadata": {},
   "outputs": [],
   "source": [
    "// Зависи от 1 / T_s F_k\n",
    "def eta_m(_T_S: Double, _F_K: ns.Tensor): ns.Tensor = {\n",
    "    val _v = 1.0 / (_T_S * _F_K)\n",
    "    val _t = Pi * _T_S * _F_K\n",
    "\n",
    "    (1.0 / (2 * Pi * Pi) * (_v * _v)\n",
    "             * ns.Tensor(_t.data.map((x: Double) => erf(x)))\n",
    "           - 1.0 / (Pi * sqrt(Pi)) * _v * ns.exp(-1.0 * (_t ** 2)))\n",
    "}\n",
    "\n",
    "val eta_ms = eta_m(T_S, F_ks)\n",
    "\n",
    "plot(\n",
    "    Seq(Scatter(F_ks.data.toSeq, eta_ms.data.toSeq)),\n",
    "    Layout(width = 600, height = 500)\n",
    "        .withTitle(\"\"\"eta_m(F_k)\"\"\")\n",
    "        .withXaxis(Axis(\"\"\"F_k, Гц\"\"\").withType(AxisType.Log))\n",
    "        .withYaxis(Axis(\"\"\"eta_m\"\"\"))\n",
    ")"
   ]
  },
  {
   "cell_type": "markdown",
   "id": "d5ac08ee-bdda-4647-acc4-d34f7b91a429",
   "metadata": {},
   "source": [
    "### Степень ЧСЗ $\\eta_{ч}$\n",
    "\n",
    "$$\\eta_{ч} = {\n",
    "  \\left[ 1 + {{1} \\over {2 \\cdot \\pi^2 }} \\cdot \\left( F_0 \\over F_k \\right) ^2 \\right]\n",
    "    \\cdot erf \\left({ {\\pi \\cdot F_k} \\over {F_0}} \\right) -\n",
    "  {{1} \\over {\\pi \\cdot \\sqrt{\\pi}}}\n",
    "    \\cdot \\left( F_0 \\over F_{к} \\right)\n",
    "    \\cdot \\left( 2 - \\exp \\left(- { \\left( {{\\pi \\cdot F_{к}} \\over {F_0}} \\right)}^2 \\right) \\right)\n",
    "}$$"
   ]
  },
  {
   "cell_type": "code",
   "execution_count": null,
   "id": "91c94b09-2c8a-4770-9f8b-4cf5616bdc54",
   "metadata": {},
   "outputs": [],
   "source": [
    "// Зависит от F_0, F_k, но это тоже функции\n",
    "def eta_ch(_F_0: Double, _F_k: ns.Tensor): ns.Tensor = {\n",
    "    val _v = Pi * _F_k / _F_0\n",
    "\n",
    "    ((1.0 + (1 / 2 * Pi * Pi) * ns.power(_F_0 / _F_k, 2))\n",
    "             * ns.Tensor(_v.data.map((x: Double) => erf(x)))\n",
    "             - 1.0 / (Pi * sqrt(Pi)) * (_F_0 / _F_k)\n",
    "             * (2.0 - ns.exp(-(_v * _v))))\n",
    "}\n",
    "\n",
    "val eta_chs = eta_ch(F_0, F_ks)\n",
    "\n",
    "plot(\n",
    "    Seq(Scatter(F_ks.data.toSeq, eta_chs.data.toSeq)),\n",
    "    Layout(width = 600, height = 500)\n",
    "        .withTitle(\"$eta_ch(F_k)\")\n",
    "        .withXaxis(Axis(\"F_k, Гц\").withType(AxisType.Log))\n",
    "        .withYaxis(Axis(\"eta_ch\"))\n",
    ")"
   ]
  },
  {
   "cell_type": "markdown",
   "id": "33bdcb5b-655c-44e7-8bef-08aa77fd0651",
   "metadata": {},
   "source": [
    "### Степень ДИ $\\eta_{д}$\n",
    "\n",
    "$$\\eta_{д} = {\n",
    "  {\\pi \\cdot \\left[ C_2 \\left( F_0 \\over F_{д} \\right)^2 \\right]^2 }\n",
    "    \\over {2 \\cdot \\left( F_0 \\over F_{д} \\right)^2}\n",
    "}$$"
   ]
  },
  {
   "cell_type": "code",
   "execution_count": null,
   "id": "62fffd6f-8f5e-409e-b448-f354233d6e4e",
   "metadata": {},
   "outputs": [],
   "source": [
    "// зависит от F_0, F_d\n",
    "def eta_d(_F_0: Double, _F_d: ns.Tensor): ns.Tensor = {\n",
    "    val _v = ns.power(_F_0 / _F_d, 2)\n",
    "    val _C_2 = fresnel_C(ns.sqrt(2 * _v / Pi))\n",
    "    (Pi * (_C_2 * _C_2)) / (2.0 * _v)\n",
    "}"
   ]
  },
  {
   "cell_type": "markdown",
   "id": "a90c57e5-b54a-4fdd-8494-3deefa250c9d",
   "metadata": {},
   "source": [
    "Зависимость коэффициента энергетических потерь $\\eta_{д}$ при НК обработке от степени их ДИ (Рис. 4.10., с. 253)."
   ]
  },
  {
   "cell_type": "code",
   "execution_count": null,
   "id": "0547817c-9a2e-49b1-b6d7-e1673879b068",
   "metadata": {},
   "outputs": [],
   "source": [
    "val F_ds = ns.linspace(10 * F_0, 0.01 * F_0, 1000)\n",
    "val eta_ds = eta_d(F_0, F_ds)\n",
    "\n",
    "plot(\n",
    "    Seq(Scatter((F_0 / F_ds).data.toSeq, eta_ds.data.toSeq)),\n",
    "    Layout(width = 600, height = 500)\n",
    "        .withTitle(\"\"\"eta_d(F_d)\"\"\")\n",
    "        .withXaxis(Axis(\"\"\"F_0 / F_d\"\"\")\n",
    "                    .withType(AxisType.Log))\n",
    "        .withYaxis(Axis(\"\"\"eta_d\"\"\"))\n",
    ")"
   ]
  },
  {
   "cell_type": "markdown",
   "id": "28a56460-fd7f-4245-a1ec-d948606d716f",
   "metadata": {},
   "source": [
    "### Построение графиков вероятности ошибки\n",
    "\n",
    "$$P_{ош} = {\n",
    "  0.25 \\cdot \\left( P_{111} + P_{110} + P_{011} + P_{010} \\right)\n",
    "}$$"
   ]
  },
  {
   "cell_type": "code",
   "execution_count": null,
   "id": "edfd0fca-3f5d-47b8-87c4-ea341b365e7a",
   "metadata": {},
   "outputs": [],
   "source": [
    "case class SimParams(\n",
    "    sigma_d_nt: Double,\n",
    "    sigma_phi: Double,\n",
    "    gamma_2: Double,\n",
    "    F_k: Double,\n",
    "    F_d: Double,\n",
    "    F_0_over_F_k: Double,\n",
    "    F_0_over_F_d: Double,\n",
    "    eta_m: Double,\n",
    "    eta_ch: Double,\n",
    "    eta_d: Double\n",
    ")"
   ]
  },
  {
   "cell_type": "code",
   "execution_count": null,
   "id": "c8a1e579-ab70-4b01-9ec6-f948dd701d26",
   "metadata": {},
   "outputs": [],
   "source": [
    "// Зависит от h2, gamma2, eta_ч, eta_м, eta_d\n",
    "// Либо Зависит от h2, f_0, F_0, T_s, N_m, sigma_delta_nt\n",
    "def P_err(_h2s: ns.Tensor, _gamma2: Double, _eta_ms: Double, _eta_chs: Double, _eta_ds: Double)\n",
    "  : ns.Tensor = {\n",
    "    val _g = _gamma2\n",
    "    val _g_1 = _g + 1\n",
    "    val _p = (_w: ns.Tensor) => (_g_1) / (_w + 2.0 * _g_1) * ns.exp(-1.0 * _g * _w / (_w + 2.0 * _g_1))\n",
    "\n",
    "    val W111 = _h2s * _eta_ds * _eta_chs\n",
    "    val W110 = (_h2s * _eta_ds * _eta_chs - _h2s * _eta_ds * _eta_ms) / (1.0 + _h2s * _eta_ds * _eta_ms)\n",
    "    val W011 = W110\n",
    "    val W010 = (_h2s * _eta_ds * _eta_chs - 2 * _h2s * _eta_ds * _eta_ms) / (1.0 + 2.0 * _h2s * _eta_ds * _eta_ms)\n",
    "\n",
    "    val P111 = _p(W111)\n",
    "    val P110 = _p(W110)\n",
    "    val P011 = _p(W011)\n",
    "    val P010 = _p(W010)\n",
    "\n",
    "    0.25 * (P111 + P110 + P011 + P010)\n",
    "}"
   ]
  },
  {
   "cell_type": "code",
   "execution_count": null,
   "id": "86b0a790-47b4-413f-94ce-236fa2e27310",
   "metadata": {},
   "outputs": [],
   "source": [
    "def logspace(start: Double, stop: Double, step: Int): ns.Tensor = {\n",
    "    val y = ns.linspace(start, stop, step)\n",
    "    ns.Tensor(y.data.map(x => math.pow(10, x)))\n",
    "}\n",
    "\n",
    "var PerrLay = Layout(width = 600, height = 500)\n",
    "        .withTitle(\"\"\"P_err(h^2)\"\"\")\n",
    "        .withXaxis(Axis(\"\"\"h^2\"\"\")\n",
    "                   .withType(AxisType.Log))\n",
    "        .withYaxis(Axis(\"\"\"P_err\"\"\")\n",
    "                   .withRange(-6.0, 0.0)\n",
    "                   .withType(AxisType.Log))"
   ]
  },
  {
   "cell_type": "code",
   "execution_count": null,
   "id": "937a0640-f6ff-43bb-ab61-bb53b3a7932a",
   "metadata": {},
   "outputs": [],
   "source": [
    "{{\n",
    "    val sim_params = (0 to 4).map((i) => {\n",
    "        SimParams(\n",
    "            sigma_d_nts(0, i).squeeze,\n",
    "            sigma_phis(0, i).squeeze,\n",
    "            gamma_2s(0, i).squeeze,\n",
    "            F_ks(0, i).squeeze,\n",
    "            F_ds(0, i).squeeze,\n",
    "            F_0_over_F_k(0, i).squeeze,\n",
    "            F_0_over_F_d(0, i).squeeze,\n",
    "            eta_ms(0, i).squeeze,\n",
    "            eta_chs(0, i).squeeze,\n",
    "            eta_ds(0, i).squeeze\n",
    "        )\n",
    "    })\n",
    "\n",
    "    val h2s = logspace(0.0, 6.0, 100)\n",
    "    val P_errs = sim_params.map((r) => {\n",
    "        P_err(\n",
    "            h2s.reshape(-1, 1).T,\n",
    "            r.gamma_2,\n",
    "            r.eta_m,\n",
    "            r.eta_ch,\n",
    "            r.eta_d)\n",
    "    })\n",
    "\n",
    "    val plots = (P_errs zip ion_params).map({\n",
    "        case (i, l) => {\n",
    "          Scatter(h2s.data.toSeq, i.data.toSeq, l.label)\n",
    "      }})\n",
    "\n",
    "    plot(plots, PerrLay)\n",
    "}}"
   ]
  },
  {
   "cell_type": "markdown",
   "id": "cec87805-a2e7-4df6-9514-ed37cd01707b",
   "metadata": {},
   "source": [
    "## Сравнение графиков вероятностей"
   ]
  },
  {
   "cell_type": "code",
   "execution_count": null,
   "id": "732950ba-1b17-444f-a3ee-d404e866f8b1",
   "metadata": {},
   "outputs": [],
   "source": [
    "case class SigParams(\n",
    "    var f_0: Double,\n",
    "    var R_T: Double,\n",
    "    var T_S: Double,\n",
    "    var theta_0: Double,\n",
    "    var B_S: Double,\n",
    "    var F_0: Double\n",
    ")"
   ]
  },
  {
   "cell_type": "code",
   "execution_count": null,
   "id": "aec6fdff-6f63-4cf7-8302-20b0834f5349",
   "metadata": {},
   "outputs": [],
   "source": [
    "def calc_sigma_d_nt(l_s: Double, z_e: Double, sigma_d_n: Double): Double = {\n",
    "    sqrt(sqrt(Pi) * l_s * z_e) * sigma_d_n\n",
    "}\n",
    "\n",
    "def P_err_vect(ion_params: Seq[IonParams], sig_params: SigParams, l_s: Double)\n",
    "  : (ns.Tensor, IndexedSeq[ns.Tensor], Seq[SimParams]) = {\n",
    "    val f_0 =     sig_params.f_0\n",
    "    val R_T =     sig_params.R_T\n",
    "    val T_S =     sig_params.T_S\n",
    "    val theta_0 = sig_params.theta_0\n",
    "    // val theta_0 = sig_params.theta_0\n",
    "    val B_S =     sig_params.B_S\n",
    "    val F_0 =     sig_params.F_0\n",
    "\n",
    "    val sigma_d_nts = ns.Tensor(ion_params.map((r) => r.sigma_d_nt).toArray)\n",
    "    val sigma_phis = ns.Tensor(sigma_d_nts.data.map((s) => sigma_phi(ns.Tensor(f_0), s, theta_0).squeeze))\n",
    "    val gamma_2s = gamma2(sigma_phis)\n",
    "    val F_ks = ns.Tensor(sigma_d_nts.data.map((s) => F_k_old(ns.Tensor(f_0), s, theta_0, z, z_e, l_s).squeeze))\n",
    "    val N_ms = ns.Tensor(ion_params.map((r) => r.N_m).toArray)\n",
    "    val F_ds = ns.Tensor(N_ms.data.map((n) => F_d(f_0, n, z_e, theta_0)))\n",
    "    val F_0_over_F_k = F_0 / F_ks\n",
    "    val F_0_over_F_d = F_0 / F_ds\n",
    "    val eta_ms = eta_m(T_S, F_ks)\n",
    "    val eta_chs = eta_ch(F_0, F_ks)\n",
    "    val eta_ds = eta_d(F_0, F_ds)\n",
    "\n",
    "    val sim_params = (0 to 4).map((i) => {\n",
    "        SimParams(\n",
    "            sigma_d_nts(0, i).squeeze,\n",
    "            sigma_phis(0, i).squeeze,\n",
    "            gamma_2s(0, i).squeeze,\n",
    "            F_ks(0, i).squeeze,\n",
    "            F_ds(0, i).squeeze,\n",
    "            F_0_over_F_k(0, i).squeeze,\n",
    "            F_0_over_F_d(0, i).squeeze,\n",
    "            eta_ms(0, i).squeeze,\n",
    "            eta_chs(0, i).squeeze,\n",
    "            eta_ds(0, i).squeeze\n",
    "        )\n",
    "    })\n",
    "\n",
    "    val h2s = logspace(0.0, 6.0, 100)\n",
    "    val P_errs = sim_params.map((r) => {\n",
    "        P_err(\n",
    "            h2s.reshape(-1, 1).T,\n",
    "            r.gamma_2,\n",
    "            r.eta_m,\n",
    "            r.eta_ch,\n",
    "            r.eta_d)\n",
    "    })\n",
    "\n",
    "    (h2s, P_errs, sim_params)\n",
    "}"
   ]
  },
  {
   "cell_type": "markdown",
   "id": "273524a2-07c8-4523-b6e4-2c5380d81bac",
   "metadata": {},
   "source": [
    "### Случай 1"
   ]
  },
  {
   "cell_type": "code",
   "execution_count": null,
   "id": "702a8365-1b4d-41a2-bdd9-810c9395a160",
   "metadata": {},
   "outputs": [],
   "source": [
    "var ion_params = Seq(\n",
    "    IonParams(\"nigth\", 2.4 * 1e11, 1e-2,       2.4 * 1e9, 0),\n",
    "    IonParams(\"day\",   1.4 * 1e12, 3 * 1e-3,   4.2 * 1e9, 0),\n",
    "    IonParams(\"evi\",   1.4 * 1e12, 3.6 * 1e-2, 5.0 * 1e10, 0),\n",
    "    IonParams(\"ivil\",  1.0 * 1e13, 5.0 * 1e-1, 5.0 * 1e12, 0),\n",
    "    IonParams(\"ivib\",  5.0 * 1e13, 1.0,        5.0 * 1e13, 0)\n",
    ")\n",
    "\n",
    "val l_s = 200\n",
    "\n",
    "ion_params.map((r) => {\n",
    "    r.sigma_d_nt = calc_sigma_d_nt(l_s, z_e, r.sigma_delta_N)\n",
    "    r\n",
    "})\n",
    "\n",
    "ion_params"
   ]
  },
  {
   "cell_type": "code",
   "execution_count": null,
   "id": "b46ecbc1-80fb-4fe0-9d0a-a728f41ccd12",
   "metadata": {},
   "outputs": [],
   "source": [
    "var sig_params = SigParams(\n",
    "    f_0 = 400 * 1e6,          // Гц\n",
    "    R_T = 2.7 * 1e3,          // бит/с\n",
    "    theta_0 = (60).toRadians, // NumPy использует радианы по-умолчанию\n",
    "    B_S = 1.0,                // простые сигналы\n",
    "    T_S = 0,\n",
    "    F_0 = 0\n",
    ")\n",
    "\n",
    "sig_params.T_S     = 1.0 / sig_params.R_T            // c/бит\n",
    "sig_params.F_0     = sig_params.B_S / sig_params.T_S // ширина спектра\n",
    "\n",
    "sig_params"
   ]
  },
  {
   "cell_type": "code",
   "execution_count": null,
   "id": "f2971a1a-a9ba-470e-baf3-4ec7be6c381c",
   "metadata": {},
   "outputs": [],
   "source": [
    "{{\n",
    "    val (h2s, p_errs, sim_params) = P_err_vect(\n",
    "        ion_params, sig_params, l_s)\n",
    "\n",
    "    val plots = (p_errs zip ion_params).map({\n",
    "        case (i, l) => {\n",
    "          Scatter(h2s.data.toSeq, i.data.toSeq, l.label)\n",
    "      }})\n",
    "\n",
    "    plot(plots, PerrLay)\n",
    "}}"
   ]
  },
  {
   "cell_type": "markdown",
   "id": "38728f30-cab2-4fcc-9033-1f65a4bd4993",
   "metadata": {},
   "source": [
    "### Случай 2"
   ]
  },
  {
   "cell_type": "code",
   "execution_count": null,
   "id": "fcb92909-9967-46c9-8d6b-b2c21cfdb55b",
   "metadata": {},
   "outputs": [],
   "source": [
    "var ion_params = Seq(\n",
    "    IonParams(\"nigth\", 2.4 * 1e11, 1e-2,       2.4 * 1e9, 0),\n",
    "    IonParams(\"day\",   1.4 * 1e12, 3 * 1e-3,   4.2 * 1e9, 0),\n",
    "    IonParams(\"evi\",   1.4 * 1e12, 3.6 * 1e-2, 5.0 * 1e10, 0),\n",
    "    IonParams(\"ivil\",  1.0 * 1e13, 5.0 * 1e-1, 5.0 * 1e12, 0),\n",
    "    IonParams(\"ivib\",  5.0 * 1e13, 1.0,        5.0 * 1e13, 0)\n",
    ")\n",
    "\n",
    "val l_s = 200\n",
    "\n",
    "ion_params.map((r) => {\n",
    "    r.sigma_d_nt = calc_sigma_d_nt(l_s, z_e, r.sigma_delta_N)\n",
    "    r\n",
    "})\n",
    "\n",
    "ion_params"
   ]
  },
  {
   "cell_type": "code",
   "execution_count": null,
   "id": "d49c94eb-d83d-4067-8644-d854fadd76d4",
   "metadata": {},
   "outputs": [],
   "source": [
    "var sig_params = SigParams(\n",
    "    f_0 = 400 * 1e6,          // Гц\n",
    "    R_T = 9.6 * 1e3,          // бит/с\n",
    "    theta_0 = (60).toRadians, // NumPy использует радианы по-умолчанию\n",
    "    B_S = 1.0,                // простые сигналы\n",
    "    T_S = 0,\n",
    "    F_0 = 0\n",
    ")\n",
    "\n",
    "sig_params.T_S     = 1.0 / sig_params.R_T            // c/бит\n",
    "sig_params.F_0     = sig_params.B_S / sig_params.T_S // ширина спектра\n",
    "\n",
    "sig_params"
   ]
  },
  {
   "cell_type": "code",
   "execution_count": null,
   "id": "8de22d70-5792-435a-bb4f-ca28eafa76ea",
   "metadata": {},
   "outputs": [],
   "source": [
    "{{\n",
    "    val (h2s, p_errs, sim_params) = P_err_vect(\n",
    "        ion_params, sig_params, l_s)\n",
    "\n",
    "    val plots = (p_errs zip ion_params).map({\n",
    "        case (i, l) => {\n",
    "          Scatter(h2s.data.toSeq, i.data.toSeq, l.label)\n",
    "      }})\n",
    "\n",
    "    plot(plots, PerrLay)\n",
    "}}"
   ]
  },
  {
   "cell_type": "markdown",
   "id": "aa95312b-3d0a-40eb-a186-e5502cda9bf1",
   "metadata": {},
   "source": [
    "### Случай 3"
   ]
  },
  {
   "cell_type": "code",
   "execution_count": null,
   "id": "9d15c67f-4aee-4ae3-a6ef-4b6ff7adc6f9",
   "metadata": {},
   "outputs": [],
   "source": [
    "var ion_params = Seq(\n",
    "    IonParams(\"nigth\", 2.4 * 1e11, 1e-2,       2.4 * 1e9, 0),\n",
    "    IonParams(\"day\",   1.4 * 1e12, 3 * 1e-3,   4.2 * 1e9, 0),\n",
    "    IonParams(\"evi\",   1.4 * 1e12, 3.6 * 1e-2, 5.0 * 1e10, 0),\n",
    "    IonParams(\"ivil\",  1.0 * 1e13, 5.0 * 1e-1, 5.0 * 1e12, 0),\n",
    "    IonParams(\"ivib\",  5.0 * 1e13, 1.0,        5.0 * 1e13, 0)\n",
    ")\n",
    "\n",
    "val l_s = 200\n",
    "\n",
    "ion_params.map((r) => {\n",
    "    r.sigma_d_nt = calc_sigma_d_nt(l_s, z_e, r.sigma_delta_N)\n",
    "    r\n",
    "})\n",
    "\n",
    "ion_params"
   ]
  },
  {
   "cell_type": "code",
   "execution_count": null,
   "id": "579cf627-602c-44ca-883c-cd872717b830",
   "metadata": {},
   "outputs": [],
   "source": [
    "var sig_params = SigParams(\n",
    "    f_0 = 400 * 1e6,          // Гц\n",
    "    R_T = 64.0 * 1e3,         // бит/с\n",
    "    theta_0 = (60).toRadians, // NumPy использует радианы по-умолчанию\n",
    "    B_S = 1.0,                // простые сигналы\n",
    "    T_S = 0,\n",
    "    F_0 = 0\n",
    ")\n",
    "\n",
    "sig_params.T_S     = 1.0 / sig_params.R_T            // c/бит\n",
    "sig_params.F_0     = sig_params.B_S / sig_params.T_S // ширина спектра"
   ]
  },
  {
   "cell_type": "code",
   "execution_count": null,
   "id": "a65057e4-6a8b-49b7-98a5-efe915274936",
   "metadata": {},
   "outputs": [],
   "source": [
    "{{\n",
    "    val (h2s, p_errs, sim_params) = P_err_vect(\n",
    "        ion_params, sig_params, l_s)\n",
    "\n",
    "    val plots = (p_errs zip ion_params).map({\n",
    "        case (i, l) => {\n",
    "          Scatter(h2s.data.toSeq, i.data.toSeq, l.label)\n",
    "      }})\n",
    "\n",
    "    plot(plots, PerrLay)\n",
    "}}"
   ]
  },
  {
   "cell_type": "code",
   "execution_count": null,
   "id": "4b2b4b8c-f78b-4c9d-939a-ce39ec885e27",
   "metadata": {},
   "outputs": [],
   "source": [
    "def Perr_fdfk(h2: Double, gamma2: Double, F_d: Double, F_k: Double): ns.Tensor = {\n",
    "      val R_T = 2.7 * 1e3\n",
    "      val T_S = 1.0 / R_T\n",
    "      val B_S = 1.0\n",
    "      val F_0 = B_S / T_S\n",
    "    \n",
    "      P_err(\n",
    "        ns.Tensor(h2),\n",
    "        gamma2,\n",
    "        eta_m(T_S, ns.Tensor(F_k)).data(0),\n",
    "        eta_ch(F_0, ns.Tensor(F_k)).data(0),\n",
    "        eta_d(F_0, ns.Tensor(F_d)).data(0)\n",
    "      )\n",
    "}"
   ]
  }
 ],
 "metadata": {
  "kernelspec": {
   "display_name": "Scala 2.12",
   "language": "scala",
   "name": "scala2.12"
  },
  "language_info": {
   "codemirror_mode": "text/x-scala",
   "file_extension": ".sc",
   "mimetype": "text/x-scala",
   "name": "scala",
   "nbconvert_exporter": "script",
   "version": "2.12.17"
  }
 },
 "nbformat": 4,
 "nbformat_minor": 5
}
