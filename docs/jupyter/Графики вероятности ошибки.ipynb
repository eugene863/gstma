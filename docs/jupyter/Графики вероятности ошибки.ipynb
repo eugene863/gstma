{
 "cells": [
  {
   "cell_type": "markdown",
   "id": "d10487b7-9a38-4c48-9567-3001ad47e06a",
   "metadata": {},
   "source": [
    "Графики помехоусточивости\n",
    "=========================\n",
    "\n",
    "Графики из монографии Маслов-Пашинцев."
   ]
  },
  {
   "cell_type": "markdown",
   "id": "4ba1cf18-537b-4846-862c-6d920c1c1347",
   "metadata": {},
   "source": [
    "## Импорты"
   ]
  },
  {
   "cell_type": "code",
   "execution_count": null,
   "id": "d5611436-090a-4348-82ae-91865c7f12bd",
   "metadata": {},
   "outputs": [],
   "source": [
    "from math import pi, cos, sqrt\n",
    "from scipy.special import erf, fresnel\n",
    "from scipy.integrate import quad\n",
    "import numpy as np\n",
    "import pandas as pd\n",
    "\n",
    "import matplotlib.pyplot as plt"
   ]
  },
  {
   "cell_type": "markdown",
   "id": "8103887a-ca36-4c79-87df-9bf9d979a049",
   "metadata": {},
   "source": [
    "## Исходные данные"
   ]
  },
  {
   "cell_type": "code",
   "execution_count": null,
   "id": "b724240c-6924-4bdb-b0af-483ebc919e7e",
   "metadata": {},
   "outputs": [],
   "source": [
    "%matplotlib ipympl\n",
    "\n",
    "# Марк:\n",
    "# - 10^13 .. 10^14 эл/м^2 для нормальной ионосферы без возмущений\n",
    "# - 10^14 .. 10^15 эл/м^2 для нормальной ионосферы со слабыми естественными\n",
    "#   возмущениями\n",
    "# - 10^15 .. 10^16 эл/м^2 для нормальной ионосферы с сильными возмущениями\n",
    "sigma_d_nts = np.array([1.0, 10.0, 50.0, 100.0, 150.0, 1000.0]) * 1e13\n",
    "\n",
    "# Марк: 0.44 Ггц, но больший диапазон интереснее\n",
    "# f_0s = np.array([0.44, 0.5, 0.55, 0.6, 0.7]) * 1e9\n",
    "f_0s = np.linspace(0.1, 10, 1000) * 1e9\n",
    "\n",
    "l_ss = np.array([200.0, 300.0, 400.0, 500.0, 600.0, 700.0, 800.0])\n",
    "\n",
    "# Марк: высота максимума ионизации, м\n",
    "hm = 300 * 1e3\n",
    "z_e = 500 * 1e3\n",
    "z1 = hm - (z_e / 2)\n",
    "z = z1 + z_e"
   ]
  },
  {
   "cell_type": "markdown",
   "id": "e1173022-9bd6-4f56-9085-da98c7944a61",
   "metadata": {},
   "source": [
    "## СКО флуктуаций фазового фронта волны  на выходе неоднородного слоя $\\sigma_{\\varphi}$\n",
    "\n",
    "$$\\sigma_{\\phi} = {\n",
    "{\n",
    "  80.8\n",
    "    \\cdot \\pi^{5/4}\n",
    "    \\cdot \\left(\n",
    "            l_s\n",
    "              \\cdot z_{э}\n",
    "              \\cdot \\sec{\\theta_0}\n",
    "          \\right) ^{1/2}\n",
    "    \\cdot \\sigma_{\\Delta N}\n",
    "}\n",
    "  \\over\n",
    "{\n",
    "  c \\cdot f_0\n",
    "}\n",
    "}$$\n",
    "\n",
    "$$\\sigma_{\\phi} = {\n",
    "  \\left( {80.8 \\cdot \\pi} \\over {C} \\right)\n",
    "    \\cdot \\left( \\sigma_{\\Delta N_t} \\over f_0 \\right)\n",
    "    \\cdot \\sec{\\theta_0}\n",
    "}$$"
   ]
  },
  {
   "cell_type": "code",
   "execution_count": null,
   "id": "e70695a9-969f-4854-b2c8-55a1543ba7a5",
   "metadata": {},
   "outputs": [],
   "source": [
    "C = 299792458.0\n",
    "\n",
    "\n",
    "def sigma_phi(f_0, sigma_d_nt, theta_0):\n",
    "    return (80.8 * pi / C) * (sigma_d_nt / f_0) * np.sqrt(1.0 / np.cos(theta_0))\n",
    "\n",
    "\n",
    "fig, ax = plt.subplots()\n",
    "theta_0 = np.radians(90.0)\n",
    "\n",
    "for s in np.nditer(sigma_d_nts):\n",
    "    sigma_phis = sigma_phi(f_0s, s * len(f_0s), theta_0)\n",
    "    ax.semilogy(f_0s, sigma_phis,\n",
    "                label=\"$\\\\sigma_{\\\\Delta N_t}$ = %.2g, $эл/м^2$\" % s)\n",
    "\n",
    "ax.set_title(r\"$\\sigma_{\\phi}(f_0)$, $Рад$\")\n",
    "ax.set_xlabel(r\"$f_0$, $Гц$\")\n",
    "ax.set_ylabel(r\"$\\sigma_{\\phi}$, $Рад$\")\n",
    "ax.legend()"
   ]
  },
  {
   "cell_type": "markdown",
   "id": "ec9d38ff-5b06-4d99-a36d-ecc1353d33d4",
   "metadata": {},
   "source": [
    "## Коэффициент нарастания дифракционных эффектов во фронте волны внутри ионосферы и за ней до точки приёма $d_1^2$"
   ]
  },
  {
   "cell_type": "code",
   "execution_count": null,
   "id": "3e2d9114-8858-4274-be2e-370e8c9fd52f",
   "metadata": {},
   "outputs": [],
   "source": [
    "# old\n",
    "def d1_2_old(f_0, z, z_e, l_s):\n",
    "    return (3 * (z ** 2) - 3 * z * z_e + (z_e ** 2)) / \\\n",
    "             (6 * pow(2 * pi * f_0 / C, 2)) * (l_s ** (-4) / 8)\n",
    "\n",
    "\n",
    "# modified\n",
    "def d1_2_modified(f_0, z, z_e, l_s):\n",
    "    return (3 * (z ** 2) - 3 * z * z_e + (z_e ** 2)) / \\\n",
    "             (6 * pow(2 * pi * f_0 / C, 2)) * 32 * (l_s ** (-4))\n",
    "\n",
    "\n",
    "fig, ax = plt.subplots(1, 2, figsize=(9, 4))\n",
    "for l_s in np.nditer(l_ss):\n",
    "    d1_2s_old = d1_2_old(f_0s, z1, z_e, l_s)\n",
    "    d1_2s_modified = d1_2_modified(f_0s, z1, z_e, l_s)\n",
    "\n",
    "    ax[0].semilogy(f_0s, d1_2s_old, label=\"$l_s$ = %.3g, $м$\" % l_s)\n",
    "    ax[1].semilogy(f_0s, d1_2s_modified, label=\"мод., $l_s$ = %.3g, $м$\" % l_s)\n",
    "\n",
    "ax[0].set_title(r\"$d_1^2(f_0)$\")\n",
    "ax[1].set_title(r\"$d_{1, мод}^2(f_0)$\")\n",
    "\n",
    "for axes in ax:\n",
    "    axes.set_xlabel(r\"$f_0$, $Гц$\")\n",
    "    axes.set_ylabel(r\"$l_s$, $м$\")\n",
    "    axes.legend()\n",
    "\n",
    "fig.tight_layout()"
   ]
  },
  {
   "cell_type": "markdown",
   "id": "63d15ed0-6ae4-4eb4-81ce-52fa3f5e6176",
   "metadata": {},
   "source": [
    "## Традиционный интервал частотной корреляции замираний в однолучевой ДКМ радиолинии $F_{k_0}$"
   ]
  },
  {
   "cell_type": "code",
   "execution_count": null,
   "id": "dfad8f4b-fc36-4249-894e-848ef6ee695e",
   "metadata": {},
   "outputs": [],
   "source": [
    "# old\n",
    "def F_k0_old(f_0, sigma_d_nt, theta_0, z, z_e, l_s):\n",
    "    sqr = np.sqrt(2 + d1_2_old(f_0, z, z_e, l_s))\n",
    "    s = sigma_phi(f_0, sigma_d_nt, theta_0)\n",
    "\n",
    "    return f_0 / (s * sqr)\n",
    "\n",
    "\n",
    "# modified\n",
    "def F_k0_modified(f_0, sigma_d_nt, theta_0, z, z_e, l_s):\n",
    "    sqr = np.sqrt(2 + d1_2_modified(f_0, z, z_e, l_s))\n",
    "    s = sigma_phi(f_0, sigma_d_nt, theta_0)\n",
    "\n",
    "    return f_0 / (s * sqr)\n",
    "\n",
    "\n",
    "fig, ax = plt.subplots(1, 2, figsize=(9, 4))\n",
    "theta_0 = np.radians(90.0)\n",
    "\n",
    "# TODO:\n",
    "l_s = 380\n",
    "for s in np.nditer(sigma_d_nts):\n",
    "    F_k0s_old = F_k0_old(f_0s, s, theta_0, z, z_e, l_s)\n",
    "    F_k0s_modified = F_k0_modified(f_0s, s, theta_0, z, z_e, l_s)\n",
    "\n",
    "    ax[0].loglog(f_0s, F_k0s_old,\n",
    "            label=\"$\\\\sigma_{\\\\Delta N_t}$ = %.2g, $эл/м^2$\" % s)\n",
    "    ax[1].loglog(f_0s, F_k0s_modified,\n",
    "            label=\"$\\\\sigma_{\\\\Delta N_t}$ = %.2g, $эл/м^2$\" % s)\n",
    "\n",
    "ax[0].set_title(r\"$F_{k_0}(f_0)$, $Гц$\")\n",
    "ax[1].set_title(r\"$F_{k_{0}, мод.}(f_0)$, $Гц$\")\n",
    "\n",
    "for axes in ax:\n",
    "    axes.set_xlabel(r\"$f_0$, $Гц$\")\n",
    "    axes.set_ylabel(r\"$F_{k_0}$, $Гц$\")\n",
    "    axes.legend()\n",
    "\n",
    "fig.tight_layout()"
   ]
  },
  {
   "cell_type": "markdown",
   "id": "2b8082c2-12a6-4d27-aa40-fbe5559e4daa",
   "metadata": {},
   "source": [
    "## Понижающий коэффициент $\\Delta F_{k_0}$"
   ]
  },
  {
   "cell_type": "code",
   "execution_count": null,
   "id": "ded382ac-aa09-4203-8b73-7fbfd9fc15da",
   "metadata": {},
   "outputs": [],
   "source": [
    "# new\n",
    "def dF_k0(f_0, sigma_d_nt, theta_0):\n",
    "    s = sigma_phi(f_0, sigma_d_nt, theta_0)\n",
    "    s2 = s ** 2\n",
    "    v = 1 - np.exp(-s2) + np.exp(1 - s2)\n",
    "    lg = np.log(v)\n",
    "\n",
    "    return np.sqrt(1 - lg)\n",
    "\n",
    "\n",
    "fig, ax = plt.subplots()\n",
    "theta_0 = np.radians(90.0)\n",
    "\n",
    "# TODO\n",
    "for s in np.nditer(sigma_d_nts):\n",
    "    dF_k0s = dF_k0(f_0s, s, theta_0)\n",
    "\n",
    "    ax.plot(f_0s, dF_k0s,\n",
    "            label=\"$\\\\sigma_{\\\\Delta N_t}$ = %.2g, $эл/м^2$\" % s)\n",
    "\n",
    "ax.set_title(r\"$\\delta F_{k_0}(f_0)$, $Гц$\")\n",
    "ax.set_xlabel(r\"$f_0$, $Гц$\")\n",
    "ax.set_ylabel(r\"$\\delta F_{k_0}$, $Гц$\")\n",
    "ax.legend()"
   ]
  },
  {
   "cell_type": "markdown",
   "id": "30b47dc2-91b0-4afd-bd32-536ddc433e0b",
   "metadata": {},
   "source": [
    "## Интервал частотной корреляции замираний в однолучевой ДКМ радиолинии $F_k$"
   ]
  },
  {
   "cell_type": "code",
   "execution_count": null,
   "id": "692ee928-3292-4c21-b5b2-c8c4b5058b75",
   "metadata": {},
   "outputs": [],
   "source": [
    "# old\n",
    "def F_k_old(f_0, sigma_d_nt, theta_0, z, z_e, l_s):\n",
    "    _F_k0 = F_k0_old(f_0, sigma_d_nt, theta_0, z, z_e, l_s)\n",
    "\n",
    "    return _F_k0\n",
    "\n",
    "\n",
    "# modified\n",
    "def F_k_modified(f_0, sigma_d_nt, theta_0, z, z_e, l_s):\n",
    "    _F_k0 = F_k0_modified(f_0, sigma_d_nt, theta_0, z, z_e, l_s)\n",
    "    _dF_k0 = dF_k0(f_0, sigma_d_nt, theta_0)\n",
    "\n",
    "    return _F_k0 * _dF_k0\n",
    "\n",
    "\n",
    "fig, ax = plt.subplots(1, 2, figsize=(9, 4))\n",
    "theta_0 = np.radians(90.0)\n",
    "\n",
    "# TODO:\n",
    "l_s = 380\n",
    "for s in np.nditer(sigma_d_nts):\n",
    "    F_ks_old = F_k_old(f_0s, s, theta_0, z, z_e, l_s)\n",
    "    F_ks_modified = F_k_modified(f_0s, s, theta_0, z, z_e, l_s)\n",
    "\n",
    "    ax[0].loglog(f_0s, F_ks_old,\n",
    "            label=\"$\\\\sigma_{\\\\Delta N_t}$ = %.2g, $эл/м^2$\" % s)\n",
    "    ax[1].loglog(f_0s, F_ks_modified,\n",
    "            label=\"$\\\\sigma_{\\\\Delta N_t}$ = %.2g, $эл/м^2$\" % s)\n",
    "\n",
    "ax[0].set_title(r\"$F_k(f_0)$, $Гц$\")\n",
    "ax[1].set_title(r\"$F_{k, мод.}(f_0)$, $Гц$\")\n",
    "\n",
    "for axes in ax:\n",
    "    axes.set_xlabel(r\"$f_0$, $Гц$\")\n",
    "    axes.set_ylabel(r\"$F_k$, $Гц$\")\n",
    "    axes.legend()\n",
    "\n",
    "fig.tight_layout()"
   ]
  },
  {
   "cell_type": "markdown",
   "id": "5daf569d-391a-40d5-8c44-06a8bba8cab4",
   "metadata": {},
   "source": [
    "## Зависимость интервала частотной корреляции $F_k$ замираний и понижающего коэффициента $\\Delta F_{k_0}$ от отношения $f_0 / f_m$ при $\\beta_{и}$"
   ]
  },
  {
   "cell_type": "code",
   "execution_count": null,
   "id": "fddef1be-2ed8-4f49-81b4-b35311c2b312",
   "metadata": {},
   "outputs": [],
   "source": [
    "# F_k_F_k_0 (модифицированная)\n",
    "theta_0 = np.radians(90.0)\n",
    "\n",
    "f_m = (15 * 1e6)\n",
    "f_0s = np.linspace(0.2, 1.0, 1000) * f_m\n",
    "f_0m = f_0s / f_m\n",
    "\n",
    "# TODO:\n",
    "l_s = 380\n",
    "s = 1e13 # sigma_d_nt\n",
    "\n",
    "fig, ax = plt.subplots()\n",
    "\n",
    "ax.plot(f_0m, F_k_modified(f_0s, s, theta_0, z, z_e, l_s), label=r\"мод. $F_k$\")\n",
    "ax.plot(f_0m, F_k0_modified(f_0s, s, theta_0, z, z_e, l_s), label=r\"мод. $F_{k_0}$\")\n",
    "ax.plot(f_0m, dF_k0(f_0s, s, theta_0), label=r\"$F_{k_0}$\")\n",
    "\n",
    "ax.set_title(r\"$F_k(f_0)$, $F_{k_0}$, $Гц$\")\n",
    "ax.set_xlabel(r\"$f_0 / f_m$, $n$\")\n",
    "ax.set_ylabel(r\"$F_k(f_0)$, $F_{k_0}$, $Гц$\")\n",
    "ax.legend()"
   ]
  },
  {
   "cell_type": "markdown",
   "id": "32c5d55b-5e1b-410b-a8eb-0a2d75063e16",
   "metadata": {},
   "source": [
    "## Какой интеграл Френеля взять\n",
    "\n",
    "Интеграл Френеля в книге отличается от того, что предлагает Scipy."
   ]
  },
  {
   "cell_type": "code",
   "execution_count": null,
   "id": "7cb3726e-540b-40b1-af0c-1582b1b117c7",
   "metadata": {},
   "outputs": [],
   "source": [
    "def Fp(x):\n",
    "    def fp(_x):\n",
    "        return cos(_x) / sqrt(_x)\n",
    "\n",
    "    results = []\n",
    "\n",
    "    for i in x:\n",
    "        _v = quad(fp, 0.0, i)[0]\n",
    "        results.append((1.0 / (2.0 * pi)) * _v)\n",
    "\n",
    "    return np.array(results)\n",
    "\n",
    "\n",
    "def _show():\n",
    "    xs = np.linspace(0.1, 10.0, 1000)\n",
    "\n",
    "    S, C = fresnel(xs)\n",
    "    Cp = Fp(xs)\n",
    "    Cpm = 2.5 * Fp(xs * pi)\n",
    "    handles = []\n",
    "\n",
    "    fig, ax = plt.subplots(1, 2, figsize=(8.5, 5), layout='constrained')\n",
    "    for d, l in zip((C, Cp, Cpm),\n",
    "                    (r\"Из Scipy\", r\"Из книги\", r\"Из книги (модифицированная)\")):\n",
    "        ax[0].semilogx(xs, d, label=l)\n",
    "\n",
    "    FF = np.linspace(0.1, 6.0, 1000)\n",
    "    eta_d = (pi / (2.0 * FF ** 2)) * np.power(fresnel(FF ** 2)[1] ** 2, 2.0)\n",
    "    eta_dp = (pi / (2.0 * FF ** 2)) * np.power(Fp(FF ** 2), 2.0)\n",
    "\n",
    "    for d, l in zip((eta_d, eta_dp, eta_d),\n",
    "                    (r\"Из Scipy\", r\"Из книги\", r\"Из книги (модифицированная)\")):\n",
    "        ax[1].semilogx(FF, d, label=l)\n",
    "\n",
    "    handles, _ = ax[0].get_legend_handles_labels()\n",
    "\n",
    "    fig.legend(loc='upper center', ncols=3, handles=handles)\n",
    "    fig.tight_layout()\n",
    "\n",
    "\n",
    "_show()"
   ]
  },
  {
   "cell_type": "markdown",
   "id": "590c2ed6-25cc-4cba-8b1b-a6bc65e2e499",
   "metadata": {},
   "source": [
    "## Оценка помехоусточивости\n",
    "\n",
    "### Исходные данные\n",
    "\n",
    "**Параметры ионосферы:**\n",
    "\n",
    "-   Максимум средней ЭК ${\\bar{N_m}}$, $эл/м^3$;\n",
    "-   Интенсивность неоднородностей $\\beta$;\n",
    "-   СКО флуктуаций ЭК ${\\sigma_{\\Delta N}}$, $эл/м^3$."
   ]
  },
  {
   "cell_type": "code",
   "execution_count": null,
   "id": "5152ea6d-c0e4-4762-8c06-ac1ef1da1bca",
   "metadata": {},
   "outputs": [],
   "source": [
    "ion_params = pd.DataFrame(\n",
    "    columns=[\"label\", \"N_m\", \"betta\", \"sigma_delta_N\"],\n",
    "    data=[\n",
    "                      # эл/м^3 #           # = betta * N_m, эл/м^3\n",
    "        (\"nigth\", 2.4 * 1e11,  1e-2,       2.4 * 1e9),\n",
    "        (\"day\",   1.4 * 1e12,  3 * 1e-3,   4.2 * 1e9),\n",
    "        (\"evi\",   1.4 * 1e12,  3.6 * 1e-2, 5.0 * 1e10),\n",
    "        (\"ivil\",  1.0 * 1e13,  5.0 * 1e-1, 5.0 * 1e12),\n",
    "        (\"ivib\",  5.0 * 1e13,  1.0,        5.0 * 1e13)])\n",
    "\n",
    "l_s = 200\n",
    "\n",
    "\n",
    "def calc_sigma_d_nt(l_s, z_e, sigma_d_n):\n",
    "    return np.sqrt(np.sqrt(pi) * l_s * z_e) * sigma_d_n\n",
    "\n",
    "\n",
    "ion_params[\"sigma_d_nt\"] = calc_sigma_d_nt(l_s, z_e, ion_params.sigma_delta_N)\n",
    "\n",
    "ion_params"
   ]
  },
  {
   "cell_type": "markdown",
   "id": "99ed6d77-682d-4c95-a2a2-81c5dbe7eed7",
   "metadata": {},
   "source": [
    "**Параметры сигналов:**\n",
    "\n",
    "-   Несущая частота $f_0$, $Гц$;\n",
    "-   Скорость передачи $R_T = 1 / T_S$, $бит/с$;\n",
    "-   Период передачи 1 бит $T_S$, $с$;\n",
    "-   Ширина спектра $F_0 = B_S / T_S$, $Гц$;\n",
    "-   Угол возвышения $\\theta_0$, $градусы$."
   ]
  },
  {
   "cell_type": "code",
   "execution_count": null,
   "id": "472387fc-32fb-4500-b481-4d73a0a67782",
   "metadata": {},
   "outputs": [],
   "source": [
    "f_0 = 400 * 1e6 # Гц\n",
    "R_T = 2.7 * 1e3 # бит/с\n",
    "T_S = 1.0 / R_T # c/бит\n",
    "theta_0 = 60.0  # градусов\n",
    "theta_0 = np.radians(theta_0) # NumPy использует радианы по-умолчанию\n",
    "\n",
    "B_S = 1.0       # простые сигналы\n",
    "F_0 = B_S / T_S # ширина спектра\n",
    "\n",
    "sigma_d_nts = ion_params.sigma_d_nt\n",
    "sigma_phis = sigma_phi(f_0, sigma_d_nts, theta_0)"
   ]
  },
  {
   "cell_type": "markdown",
   "id": "15b49f75-babf-41f5-b5e8-8ec7b17b6fe3",
   "metadata": {},
   "source": [
    "### Зависимость СКО флуктуаций фазового фронта волны $\\sigma_\\varphi$ от sigma_d_nts"
   ]
  },
  {
   "cell_type": "code",
   "execution_count": null,
   "id": "981cd3bc-43d9-46d1-9fd5-2d1d9496ed00",
   "metadata": {},
   "outputs": [],
   "source": [
    "fig, ax = plt.subplots()\n",
    "\n",
    "ax.plot(sigma_d_nts, sigma_phis)\n",
    "ax.set_title(r\"$\\sigma_{\\phi}(\\sigma_{\\Delta N_t})$, $Рад$\")\n",
    "ax.set_xlabel(r\"$\\sigma_{\\Delta N_t}$, $эл/м^2$\")\n",
    "ax.set_ylabel(r\"$\\sigma_{\\phi}$, $Рад$\")"
   ]
  },
  {
   "cell_type": "markdown",
   "id": "9870d5d0-7cef-4194-8af6-629cf764dc26",
   "metadata": {},
   "source": [
    "### Глубина общих БЗ $\\gamma^2$\n",
    "\n",
    "$$\\gamma^2 = {{1} \\over {\\exp{\\sigma_{\\phi}^2} - 1}}$$"
   ]
  },
  {
   "cell_type": "code",
   "execution_count": null,
   "id": "325c04fb-06d3-49d2-8d13-c086e8923520",
   "metadata": {},
   "outputs": [],
   "source": [
    "def gamma2(sigma_phi):\n",
    "    return 1.0 / (np.exp(np.power(sigma_phi, 2)) - 1)\n",
    "\n",
    "\n",
    "gamma_2s = gamma2(sigma_phis)\n",
    "\n",
    "fig, ax = plt.subplots()\n",
    "ax.semilogx(sigma_phis, gamma_2s)\n",
    "\n",
    "ax.set_title(r\"$\\gamma^2(\\sigma_{\\phi})$\")\n",
    "ax.set_xlabel(r\"$\\sigma_{\\phi}$, $Рад$\")\n",
    "ax.set_ylabel(r\"$\\gamma^2$\")"
   ]
  },
  {
   "cell_type": "markdown",
   "id": "1af6bc59-acfc-464b-bd1f-5df84dd953cc",
   "metadata": {},
   "source": [
    "### Полоса когерентности F_К\n",
    "\n",
    "$$F_{К} = {\n",
    "  {f_0^2 \\cdot c}\n",
    "    \\over\n",
    "  {\n",
    "    80.8\n",
    "      \\cdot \\pi^{5/4}\n",
    "      \\cdot \\left(\n",
    "              2 \\cdot l_s \\cdot z_{э} \\cdot \\sec{\\theta_0}\n",
    "            \\right) ^{1/2}\n",
    "      \\cdot \\sigma_{\\Delta N}\n",
    "      \\cdot Д_1\n",
    "  }\n",
    "}$$\n",
    "\n",
    "$$Д_1 = {1+d_1^2 \\over 2}$$\n",
    "\n",
    "$$d_1^2 = {\n",
    "  {\n",
    "    \\left(\n",
    "      3 \\cdot z^2 - 3 \\cdot z \\cdot z_{э} + z_{э}^2\n",
    "    \\right)\n",
    "    \\cdot c^2\n",
    "    \\cdot \\sec{\\theta_0}^2\n",
    "  }\n",
    "    \\over\n",
    "  { 192 \\cdot \\pi^2 \\cdot f_0^2 \\cdot l_s^4 }\n",
    "}$$\n",
    "\n",
    "$$F_{К} = {\n",
    "  {f_0}\n",
    "    \\over\n",
    "  {\n",
    "    \\sigma_{\\phi} \\cdot \\sqrt{2 + d_1^2}\n",
    "  }\n",
    "}$$\n",
    "\n",
    "$$d_1^2 = {\n",
    "  {{\n",
    "    \\left(\n",
    "      3 \\cdot z^2 - 3 \\cdot z \\cdot z_{э} + z_{э}^2\n",
    "    \\right)\n",
    "    \\cdot c^2\n",
    "    \\cdot \\sec{\\theta_0}^2\n",
    "  }\n",
    "    \\over\n",
    "  { 6 \\cdot (\\pi \\cdot f_0 / C)^2}}\n",
    "  \\cdot (l_s^{-4} / 8)\n",
    "}$$"
   ]
  },
  {
   "cell_type": "code",
   "execution_count": null,
   "id": "e893891a-924a-45ef-aaa0-ca139fb1867e",
   "metadata": {},
   "outputs": [],
   "source": [
    "F_ks = F_k_old(f_0, sigma_d_nts, theta_0, z, z_e, l_s)\n",
    "\n",
    "fig, ax = plt.subplots()\n",
    "ax.semilogx(sigma_d_nts, F_ks)\n",
    "\n",
    "ax.set_title(r\"$F_k(\\sigma_{\\Delta N_t})$, $Гц$\")\n",
    "ax.set_xlabel(r\"$\\sigma_{\\Delta N_t}$, $эл/м^2$\")\n",
    "ax.set_ylabel(r\"$F_k$, $Гц$\")"
   ]
  },
  {
   "cell_type": "markdown",
   "id": "50ae5e25-01af-456a-b70c-848e20a96d77",
   "metadata": {},
   "source": [
    "### Полоса диспертности $F_{Д}$\n",
    "\n",
    "$$F_{д} = {\n",
    "  \\left(\n",
    "    {c \\cdot f_{0}^3}\n",
    "      \\over\n",
    "    {\n",
    "      80.8\n",
    "        \\cdot \\pi\n",
    "        \\cdot \\bar{N_m}\n",
    "        \\cdot z_{э}\n",
    "        \\cdot \\sec{\\theta_0}\n",
    "    }\n",
    "  \\right) ^{1/2}\n",
    "}$$\n",
    "\n",
    "$$F_{Д} = {\n",
    "  \\sqrt{\n",
    "    {C \\cdot f_{0}^3}\n",
    "      \\over\n",
    "    {\n",
    "      80.8 \\cdot \\pi \\cdot \\bar{N_m} \\cdot z_{э} \\cdot \\sec{\\theta_0}\n",
    "    }\n",
    "  }\n",
    "}$$"
   ]
  },
  {
   "cell_type": "code",
   "execution_count": null,
   "id": "b7a6158e-a9c9-4a63-a22e-d446c9e32186",
   "metadata": {},
   "outputs": [],
   "source": [
    "def F_d(f_0, N_m, z_e, theta_0):\n",
    "    return np.sqrt(C * np.power(f_0, 3) / (80.8 * pi * N_m * z_e * (1.0 / np.cos(theta_0))))\n",
    "\n",
    "\n",
    "N_ms = ion_params.N_m\n",
    "F_ds = F_d(f_0, N_ms, z_e, theta_0)\n",
    "\n",
    "fig, ax = plt.subplots()\n",
    "ax.plot(N_ms, F_ds)\n",
    "\n",
    "ax.set_title(r\"$F_d(N_m)$, $Гц$\")\n",
    "ax.set_xlabel(r\"$N_m$\")\n",
    "ax.set_ylabel(r\"$F_d$, $Гц$\")"
   ]
  },
  {
   "cell_type": "markdown",
   "id": "be45fe9f-4744-4b68-a312-7430a8cce496",
   "metadata": {},
   "source": [
    "### F_0 / F_k"
   ]
  },
  {
   "cell_type": "code",
   "execution_count": null,
   "id": "4624d73e-fc81-4ec3-8edf-8a83cc3aa4e2",
   "metadata": {},
   "outputs": [],
   "source": [
    "F_0_over_F_k = F_0 / F_ks"
   ]
  },
  {
   "cell_type": "markdown",
   "id": "6a972fe0-959f-4f4b-932d-fddeef6d9509",
   "metadata": {},
   "source": [
    "### F_0 / F_d"
   ]
  },
  {
   "cell_type": "code",
   "execution_count": null,
   "id": "5a312022-78b5-4b6f-bf33-6261799dbf1f",
   "metadata": {},
   "outputs": [],
   "source": [
    "F_0_over_F_d = F_0 / F_ds"
   ]
  },
  {
   "cell_type": "markdown",
   "id": "787ff912-b128-4fcf-9e7c-2b00e977fe28",
   "metadata": {},
   "source": [
    "### Степень МСИ $\\eta_{м}$\n",
    "\n",
    "$$\\eta_{м} = {\n",
    "  {{1} \\over {2 \\cdot \\pi^2}}\n",
    "    \\cdot \\left( {{1} \\over {T_S \\cdot F_K}} \\right)^2\n",
    "    \\cdot erf \\left( {\\pi \\cdot T_S \\cdot F_K} \\right) -\n",
    "  {{1} \\over {\\pi \\cdot \\sqrt{\\pi}}}\n",
    "    \\cdot \\left( {{1} \\over {T_S \\cdot F_K}} \\right)\n",
    "    \\cdot \\exp(- (\\pi \\cdot T_S \\cdot F_K)^2)\n",
    "}$$"
   ]
  },
  {
   "cell_type": "code",
   "execution_count": null,
   "id": "5ffcc6ff-bf61-4d0a-8169-5884b1e408d1",
   "metadata": {},
   "outputs": [],
   "source": [
    "# Зависи от 1 / T_s F_k\n",
    "def eta_m(_T_S, _F_K):\n",
    "    _v = 1.0 / (_T_S * _F_K)\n",
    "    _t = pi * _T_S * _F_K\n",
    "    return 1.0 / (2 * pi * pi) * np.power(_v, 2) \\\n",
    "             * erf(_t) \\\n",
    "           - 1.0 / (pi * np.sqrt(pi)) * _v * np.exp(-1.0 * _t ** 2)\n",
    "\n",
    "\n",
    "eta_ms = eta_m(T_S, F_ks)\n",
    "\n",
    "fig, ax = plt.subplots()\n",
    "ax.semilogx(F_ks, eta_ms)\n",
    "\n",
    "ax.set_title(r\"$\\eta_{m}(F_k)$\")\n",
    "ax.set_xlabel(r\"$F_k$, $Гц$\")\n",
    "ax.set_ylabel(r\"$\\eta_{m}$\")"
   ]
  },
  {
   "cell_type": "markdown",
   "id": "1ef25094-1045-4df4-8d60-aefedfdf07b2",
   "metadata": {},
   "source": [
    "### Степень ЧСЗ $\\eta_{ч}$\n",
    "\n",
    "$$\\eta_{ч} = {\n",
    "  \\left[ 1 + {{1} \\over {2 \\cdot \\pi^2 }} \\cdot \\left( F_0 \\over F_k \\right) ^2 \\right]\n",
    "    \\cdot erf \\left({ {\\pi \\cdot F_k} \\over {F_0}} \\right) -\n",
    "  {{1} \\over {\\pi \\cdot \\sqrt{\\pi}}}\n",
    "    \\cdot \\left( F_0 \\over F_{к} \\right)\n",
    "    \\cdot \\left( 2 - \\exp \\left(- { \\left( {{\\pi \\cdot F_{к}} \\over {F_0}} \\right)}^2 \\right) \\right)\n",
    "}$$"
   ]
  },
  {
   "cell_type": "code",
   "execution_count": null,
   "id": "808e7988-dd2b-4856-8975-30e589d326e5",
   "metadata": {},
   "outputs": [],
   "source": [
    "# Зависит от F_0, F_k, но это тоже функции\n",
    "def eta_ch(_F_0, _F_k):\n",
    "    _v = pi * _F_k / _F_0\n",
    "\n",
    "    return (1.0 + (1 / 2 * pi ** 2) * np.power(_F_0 / _F_k, 2)) \\\n",
    "             * erf(_v) \\\n",
    "             - 1.0 / (pi * np.sqrt(pi)) * (_F_0 / _F_k) \\\n",
    "             * (2.0 - np.exp(-np.power(_v, 2)))\n",
    "\n",
    "\n",
    "eta_chs = eta_ch(F_0, F_ks)\n",
    "\n",
    "fig, ax = plt.subplots()\n",
    "ax.semilogx(F_ks, eta_chs)\n",
    "\n",
    "ax.set_title(r\"$\\eta_{ch}(F_k)$\")\n",
    "ax.set_xlabel(r\"$F_k$, $Гц$\")\n",
    "ax.set_ylabel(r\"$\\eta_{ch}$\")"
   ]
  },
  {
   "cell_type": "markdown",
   "id": "eacb7bad-7785-46b9-9ff5-0144f1b4a27c",
   "metadata": {},
   "source": [
    "### Степень ДИ $\\eta_{д}$\n",
    "\n",
    "$$\\eta_{д} = {\n",
    "  {\\pi \\cdot \\left[ C_2 \\left( F_0 \\over F_{д} \\right)^2 \\right]^2 }\n",
    "    / {2 \\cdot \\left( F_0 \\over F_{д} \\right)^2}\n",
    "}$$"
   ]
  },
  {
   "cell_type": "code",
   "execution_count": null,
   "id": "0740e542-9685-48ea-9222-78b375b23502",
   "metadata": {},
   "outputs": [],
   "source": [
    "# TODO: fix eta_d\n",
    "# зависит от F_0, F_d\n",
    "def eta_d(_F_0, _F_d):\n",
    "    _v = (_F_0 / _F_d)\n",
    "    _C_2 = fresnel(_v)[1]\n",
    "    return (pi * np.power(_C_2, 2)) / (2.0 * _v)"
   ]
  },
  {
   "cell_type": "markdown",
   "id": "a5dd65c1-ee6e-47c3-9bb1-ddfd7bc5427a",
   "metadata": {},
   "source": [
    "Зависимость коэффициента энергетических потерь $\\eta_{д}$ при НК обработке от степени их ДИ (Рис. 4.10., с. 253)."
   ]
  },
  {
   "cell_type": "code",
   "execution_count": null,
   "id": "d90970fd-5368-42d4-b11d-298a78339092",
   "metadata": {},
   "outputs": [],
   "source": [
    "__F_ds = np.linspace(10 * F_0, 0.001 * F_0, 1000)\n",
    "eta_ds = eta_d(F_0, __F_ds)\n",
    "\n",
    "fig, ax = plt.subplots()\n",
    "ax.loglog(F_0 / __F_ds, eta_ds)\n",
    "\n",
    "ax.set_title(r\"$\\eta_{d}(F_d)$\")\n",
    "ax.set_xlabel(r\"$F_d$, $Гц$\")\n",
    "ax.set_ylabel(r\"$\\eta_{d}$\")"
   ]
  },
  {
   "cell_type": "code",
   "execution_count": null,
   "id": "d1063a96-51b8-4056-bdc9-9a8b36179352",
   "metadata": {},
   "outputs": [],
   "source": [
    "eta_ds = eta_d(F_0, F_ds)\n",
    "\n",
    "fig, ax = plt.subplots()\n",
    "ax.plot(F_ds, eta_ds)\n",
    "\n",
    "ax.set_title(r\"$\\eta_{d}(F_d)$\")\n",
    "ax.set_xlabel(r\"$F_d$, $Гц$\")\n",
    "ax.set_ylabel(r\"$\\eta_{d}$\")"
   ]
  },
  {
   "cell_type": "code",
   "execution_count": null,
   "id": "dbddabf4-b534-44ec-b1e2-2ded0c3297f3",
   "metadata": {},
   "outputs": [],
   "source": [
    "eta_ds = eta_d(F_0, F_ds)\n",
    "\n",
    "fig, ax = plt.subplots()\n",
    "ax.plot(F_ds, eta_ds)\n",
    "\n",
    "ax.set_title(r\"$\\eta_{d}(F_d)$\")\n",
    "ax.set_xlabel(r\"$F_d$, $Гц$\")\n",
    "ax.set_ylabel(r\"$\\eta_{d}$\")"
   ]
  },
  {
   "cell_type": "markdown",
   "id": "1890208b-ec88-41c3-9881-ef86e8022015",
   "metadata": {},
   "source": [
    "### Построение графиков вероятности ошибки\n",
    "\n",
    "$$P_{ош} = {\n",
    "  0.25 \\cdot \\left( P_{111} + P_{110} + P_{011} + P_{010} \\right)\n",
    "}$$"
   ]
  },
  {
   "cell_type": "code",
   "execution_count": null,
   "id": "5b5b4b8f-d71f-428f-90f6-e64d84fd137f",
   "metadata": {},
   "outputs": [],
   "source": [
    "sim_params = np.vstack((\n",
    "    sigma_d_nts.to_numpy().reshape(1, 5),\n",
    "    sigma_phis.to_numpy().reshape(1, 5),\n",
    "    gamma_2s.to_numpy().reshape(1, 5),\n",
    "    F_ks.to_numpy().reshape(1, 5),\n",
    "    F_ds.to_numpy().reshape(1, 5),\n",
    "    F_0_over_F_k.to_numpy().reshape(1, 5),\n",
    "    F_0_over_F_d.to_numpy().reshape(1, 5),\n",
    "    eta_ms.to_numpy().reshape(1, 5),\n",
    "    eta_chs.to_numpy().reshape(1, 5),\n",
    "    eta_ds.to_numpy().reshape(1, 5)))\n",
    "\n",
    "sim_params"
   ]
  },
  {
   "cell_type": "code",
   "execution_count": null,
   "id": "67551d8c-1613-4809-ae07-8eee37999df7",
   "metadata": {},
   "outputs": [],
   "source": [
    "# Зависит от h2, gamma2, eta_ч, eta_м, eta_d\n",
    "# Либо Зависит от h2, f_0, F_0, T_s, N_m, sigma_delta_nt\n",
    "def P_err(_h2s, _gamma2, _eta_ms, _eta_chs, _eta_ds):\n",
    "    _g = _gamma2\n",
    "    _g_1 = _g + 1\n",
    "    _p = lambda _w: (_g_1) / (_w + 2.0 * _g_1) * np.exp(-1.0 * _g * _w / (_w + 2.0 * _g_1))\n",
    "\n",
    "    W111 = _h2s * _eta_ds * _eta_chs\n",
    "    W110 = (_h2s * _eta_ds * _eta_chs - _h2s * _eta_ds * _eta_ms) / (1.0 + _h2s * _eta_ds * _eta_ms)\n",
    "    W011 = W110\n",
    "    W010 = (_h2s * _eta_ds * _eta_chs - 2 * _h2s * _eta_ds * _eta_ms) / (1.0 + 2.0 * _h2s * _eta_ds * _eta_ms)\n",
    "\n",
    "    P111 = _p(W111)\n",
    "    P110 = _p(W110)\n",
    "    P011 = _p(W011)\n",
    "    P010 = _p(W010)\n",
    "\n",
    "    return 0.25 * (P111 + P110 + P011 + P010)\n",
    "\n",
    "\n",
    "h2s = np.logspace(0.0, 6.0, 1000)\n",
    "P_errs = P_err(h2s.reshape(-1, 1).T,\n",
    "               sim_params[2].reshape(-1, 1),\n",
    "               sim_params[7].reshape(-1, 1),\n",
    "               sim_params[8].reshape(-1, 1),\n",
    "               np.array([1.0] * 5).reshape(-1, 1)) # TODO: fix eta_d\n",
    "\n",
    "fig, ax = plt.subplots()\n",
    "\n",
    "for i, l in zip(P_errs, ion_params.label):\n",
    "    ax.loglog(h2s, i, label=l)\n",
    "\n",
    "ax.set_ylim(top=1e0, bottom=1e-6)\n",
    "\n",
    "ax.set_title(r\"$P_{err}(h^2)$\")\n",
    "ax.set_xlabel(r\"$h^2$\")\n",
    "ax.set_ylabel(r\"$P_{err}$\")\n",
    "ax.grid(True, which=\"both\", ls=\"--\", lw=0.6)\n",
    "ax.legend()"
   ]
  },
  {
   "cell_type": "markdown",
   "id": "6a62f249-1a70-4129-92a2-238bbac967fa",
   "metadata": {},
   "source": [
    "## Сравнение графиков вероятностей"
   ]
  },
  {
   "cell_type": "code",
   "execution_count": null,
   "id": "77ba259e-2c49-46c6-8575-e93f796da9c3",
   "metadata": {},
   "outputs": [],
   "source": [
    "def calc_sigma_d_nt(l_s, z_e, sigma_d_n):\n",
    "    return np.sqrt(np.sqrt(pi) * l_s * z_e) * sigma_d_n\n",
    "\n",
    "\n",
    "def P_err_vect(ion_params, sig_params, l_s):\n",
    "    f_0 =     sig_params.f_0[0]\n",
    "    R_T =     sig_params.R_T[0]\n",
    "    T_S =     sig_params.T_S[0]\n",
    "    theta_0 = sig_params.theta_0[0]\n",
    "    theta_0 = sig_params.theta_0[0]\n",
    "    B_S =     sig_params.B_S[0]\n",
    "    F_0 =     sig_params.F_0[0]\n",
    "\n",
    "    sigma_d_nts = ion_params[:, 3]\n",
    "    sigma_phis = sigma_phi(f_0, sigma_d_nts, theta_0)\n",
    "    gamma_2s = gamma2(sigma_phis)\n",
    "    F_ks = F_k_old(f_0, sigma_d_nts, theta_0, z, z_e, l_s)\n",
    "    N_ms = ion_params[:, 0]\n",
    "    F_ds = F_d(f_0, N_ms, z_e, theta_0)\n",
    "    F_0_over_F_k = F_0 / F_ks\n",
    "    F_0_over_F_d = F_0 / F_ds\n",
    "    eta_ms = eta_m(T_S, F_ks)\n",
    "    eta_chs = eta_ch(F_0, F_ks)\n",
    "    eta_ds = eta_d(F_0, F_ds)\n",
    "\n",
    "    sim_params = np.vstack((\n",
    "        sigma_d_nts.reshape(1, 5),\n",
    "        sigma_phis.reshape(1, 5),\n",
    "        gamma_2s.reshape(1, 5),\n",
    "        F_ks.reshape(1, 5),\n",
    "        F_ds.reshape(1, 5),\n",
    "        F_0_over_F_k.reshape(1, 5),\n",
    "        F_0_over_F_d.reshape(1, 5),\n",
    "        eta_ms.reshape(1, 5),\n",
    "        eta_chs.reshape(1, 5),\n",
    "        eta_ds.reshape(1, 5)))\n",
    "\n",
    "    h2s = np.logspace(0.0, 6.0, 1000)\n",
    "    P_errs = P_err(h2s.reshape(-1, 1).T,\n",
    "                   sim_params[2].reshape(-1, 1),\n",
    "                   sim_params[7].reshape(-1, 1),\n",
    "                   sim_params[8].reshape(-1, 1),\n",
    "                   np.array([1.0] * 5).reshape(-1, 1)) # TODO: fix eta_d\n",
    "\n",
    "    return (h2s, P_errs, sim_params)"
   ]
  },
  {
   "cell_type": "markdown",
   "id": "8e6a73d9-3cad-4bf0-b6d0-eba6b85fa0bd",
   "metadata": {},
   "source": [
    "### Случай 1"
   ]
  },
  {
   "cell_type": "code",
   "execution_count": null,
   "id": "e8a35946-bef9-4d10-b6d8-22cf7cf83524",
   "metadata": {},
   "outputs": [],
   "source": [
    "ion_params = pd.DataFrame(\n",
    "    columns=[\"label\", \"N_m\", \"betta\", \"sigma_delta_N\"],\n",
    "    data=[\n",
    "                  # эл/м^3    #           # = betta * N_m, эл/м^3\n",
    "        (\"nigth\", 2.4 * 1e11, 1e-2,       2.4 * 1e9),\n",
    "        (\"day\",   1.4 * 1e12, 3 * 1e-3,   4.2 * 1e9),\n",
    "        (\"evi\",   1.4 * 1e12, 3.6 * 1e-2, 5.0 * 1e10),\n",
    "        (\"ivil\",  1.0 * 1e13, 5.0 * 1e-1, 5.0 * 1e12),\n",
    "        (\"ivib\",  5.0 * 1e13, 1.0,        5.0 * 1e13)])\n",
    "\n",
    "l_s = 200\n",
    "\n",
    "ion_params[\"sigma_d_nt\"] = calc_sigma_d_nt(l_s, z_e, ion_params.sigma_delta_N)\n",
    "\n",
    "ion_params"
   ]
  },
  {
   "cell_type": "code",
   "execution_count": null,
   "id": "5d8eff85-f2b2-452e-9fda-a3a6ad1e5f71",
   "metadata": {},
   "outputs": [],
   "source": [
    "sig_params = pd.DataFrame()\n",
    "sig_params[\"f_0\"]     = [400 * 1e6]                     # Гц\n",
    "sig_params[\"R_T\"]     = [2.7 * 1e3]                     # бит/с\n",
    "sig_params[\"T_S\"]     = 1.0 / sig_params.R_T            # c/бит\n",
    "sig_params[\"theta_0\"] = np.radians([60])                # NumPy использует радианы по-умолчанию\n",
    "sig_params[\"B_S\"]     = [1.0]                           # простые сигналы\n",
    "sig_params[\"F_0\"]     = sig_params.B_S / sig_params.T_S # ширина спектра\n",
    "\n",
    "sig_params"
   ]
  },
  {
   "cell_type": "code",
   "execution_count": null,
   "id": "5f11fd2a-3387-4940-804a-35b9b2dea1e0",
   "metadata": {},
   "outputs": [],
   "source": [
    "h2s, P_errs, sim_params = P_err_vect(\n",
    "    ion_params.drop(columns=[\"label\"]).to_numpy(), sig_params, l_s)\n",
    "\n",
    "fig, ax = plt.subplots()\n",
    "\n",
    "for i, l in zip(P_errs, ion_params.label):\n",
    "    ax.loglog(h2s, i, label=l)\n",
    "\n",
    "ax.set_ylim(top=1e0, bottom=1e-6)\n",
    "ax.set_title(r\"$P_{err}(h^2)$\")\n",
    "ax.set_xlabel(r\"$h^2$\")\n",
    "ax.set_ylabel(r\"$P_{err}$\")\n",
    "ax.grid(True, which=\"both\", ls=\"--\", lw=0.6)\n",
    "ax.legend()"
   ]
  },
  {
   "cell_type": "markdown",
   "id": "f307ba8e-5413-4db2-bbfe-889a006df70b",
   "metadata": {},
   "source": [
    "### Случай 2"
   ]
  },
  {
   "cell_type": "code",
   "execution_count": null,
   "id": "7d5b536d-251d-4d6c-930e-be90dd71ac6f",
   "metadata": {},
   "outputs": [],
   "source": [
    "ion_params = pd.DataFrame(\n",
    "    columns=[\"label\", \"N_m\", \"betta\", \"sigma_delta_N\"],\n",
    "    data=[\n",
    "                  # эл/м^3    #           # = betta * N_m, эл/м^3\n",
    "        (\"nigth\", 2.4 * 1e11, 1e-2,       2.4 * 1e9),\n",
    "        (\"day\",   1.4 * 1e12, 3 * 1e-3,   4.2 * 1e9),\n",
    "        (\"evi\",   1.4 * 1e12, 3.6 * 1e-2, 5.0 * 1e10),\n",
    "        (\"ivil\",  1.0 * 1e13, 5.0 * 1e-1, 5.0 * 1e12),\n",
    "        (\"ivib\",  5.0 * 1e13, 1.0,        5.0 * 1e13)])\n",
    "\n",
    "l_s = 200\n",
    "\n",
    "ion_params[\"sigma_d_nt\"] = calc_sigma_d_nt(l_s, z_e, ion_params.sigma_delta_N)\n",
    "\n",
    "ion_params"
   ]
  },
  {
   "cell_type": "code",
   "execution_count": null,
   "id": "ddf0d3e4-75d1-47d7-9adc-78978dd8eba0",
   "metadata": {},
   "outputs": [],
   "source": [
    "sig_params = pd.DataFrame()\n",
    "sig_params[\"f_0\"]     = [400 * 1e6]                     # Гц\n",
    "sig_params[\"R_T\"]     = [9.6 * 1e3]                     # бит/с\n",
    "sig_params[\"T_S\"]     = 1.0 / sig_params.R_T            # c/бит\n",
    "sig_params[\"theta_0\"] = np.radians([60])                # NumPy использует радианы по-умолчанию\n",
    "sig_params[\"B_S\"]     = [1.0]                           # простые сигналы\n",
    "sig_params[\"F_0\"]     = sig_params.B_S / sig_params.T_S # ширина спектра\n",
    "\n",
    "sig_params"
   ]
  },
  {
   "cell_type": "code",
   "execution_count": null,
   "id": "f218fb29-2c18-4f9c-9361-849d6b6e96e1",
   "metadata": {},
   "outputs": [],
   "source": [
    "h2s, P_errs, sim_params = P_err_vect(\n",
    "    ion_params.drop(columns=[\"label\"]).to_numpy(), sig_params, l_s)\n",
    "\n",
    "fig, ax = plt.subplots()\n",
    "\n",
    "for i, l in zip(P_errs, ion_params.label):\n",
    "    ax.loglog(h2s, i, label=l)\n",
    "\n",
    "ax.set_ylim(top=1e0, bottom=1e-6)\n",
    "ax.set_title(r\"$P_{err}(h^2)$\")\n",
    "ax.set_xlabel(r\"$h^2$\")\n",
    "ax.set_ylabel(r\"$P_{err}$\")\n",
    "ax.grid(True, which=\"both\", ls=\"--\", lw=0.6)\n",
    "ax.legend()"
   ]
  },
  {
   "cell_type": "markdown",
   "id": "e6e25532-ab63-426d-9e72-b186a15d4437",
   "metadata": {},
   "source": [
    "### Случай 3"
   ]
  },
  {
   "cell_type": "code",
   "execution_count": null,
   "id": "9ebdad3c-4950-4da9-af5a-ec63e466aa54",
   "metadata": {},
   "outputs": [],
   "source": [
    "ion_params = pd.DataFrame(\n",
    "    columns=[\"label\", \"N_m\",   \"betta\", \"sigma_delta_N\"],\n",
    "    data=[\n",
    "                # эл/м^3    #           # = betta * N_m, эл/м^3\n",
    "      (\"nigth\", 2.4 * 1e11, 1e-2,       2.4 * 1e9),\n",
    "      (\"day\",   1.4 * 1e12, 3 * 1e-3,   4.2 * 1e9),\n",
    "      (\"evi\",   1.4 * 1e12, 3.6 * 1e-2, 5.0 * 1e10),\n",
    "      (\"ivil\",  1.0 * 1e13, 5.0 * 1e-1, 5.0 * 1e12),\n",
    "      (\"ivib\",  5.0 * 1e13, 1.0,        5.0 * 1e13)])\n",
    "\n",
    "l_s = 200\n",
    "\n",
    "ion_params[\"sigma_d_nt\"] = calc_sigma_d_nt(l_s, z_e, ion_params[\"sigma_delta_N\"])\n",
    "\n",
    "ion_params"
   ]
  },
  {
   "cell_type": "code",
   "execution_count": null,
   "id": "0b2dca89-5e64-44f6-85f2-e6a6f3ba9681",
   "metadata": {},
   "outputs": [],
   "source": [
    "sig_params = pd.DataFrame()\n",
    "sig_params[\"f_0\"]     = [400 * 1e6]                     # Гц\n",
    "sig_params[\"R_T\"]     = [64.0 * 1e3]                    # бит/с\n",
    "sig_params[\"T_S\"]     = 1.0 / sig_params.R_T            # c/бит\n",
    "sig_params[\"theta_0\"] = np.radians([60])                # NumPy использует радианы по-умолчанию\n",
    "sig_params[\"B_S\"]     = [1.0]                           # простые сигналы\n",
    "sig_params[\"F_0\"]     = sig_params.B_S / sig_params.T_S # ширина спектра\n",
    "\n",
    "sig_params"
   ]
  },
  {
   "cell_type": "code",
   "execution_count": null,
   "id": "278c996c-de81-43e3-aca4-0de4bc350aa0",
   "metadata": {},
   "outputs": [],
   "source": [
    "h2s, P_errs, sim_params = P_err_vect(\n",
    "    ion_params.drop(columns=[\"label\"]).to_numpy(), sig_params, l_s)\n",
    "\n",
    "fig, ax = plt.subplots()\n",
    "\n",
    "for i, l in zip(P_errs, ion_params.label):\n",
    "    ax.loglog(h2s, i, label=l)\n",
    "\n",
    "ax.set_ylim(top=1e0, bottom=1e-6)\n",
    "ax.set_title(r\"$P_{err}(h^2)$\")\n",
    "ax.set_xlabel(r\"$h^2$\")\n",
    "ax.set_ylabel(r\"$P_{err}$\")\n",
    "ax.grid(True, which=\"both\", ls=\"--\", lw=0.6)\n",
    "ax.legend()"
   ]
  }
 ],
 "metadata": {
  "language_info": {
   "name": "python",
   "pygments_lexer": "ipython3"
  }
 },
 "nbformat": 4,
 "nbformat_minor": 5
}
